{
 "cells": [
  {
   "cell_type": "code",
   "execution_count": 1,
   "id": "2fd04d6e-1cfe-4de8-8dd8-302076d7c8ed",
   "metadata": {},
   "outputs": [],
   "source": [
    "%matplotlib inline\n",
    "\n",
    "import numpy as np\n",
    "import scipy.linalg\n",
    "import scipy.sparse.linalg\n",
    "import matplotlib.pyplot as plt\n",
    "from numba import jit"
   ]
  },
  {
   "cell_type": "code",
   "execution_count": 2,
   "id": "ebe10aa5-5ac4-419b-8866-6b5c9af5504c",
   "metadata": {},
   "outputs": [],
   "source": [
    "@jit(nopython=True)\n",
    "def build_pascal(lc,nc):\n",
    "    cnkc = np.zeros((lc,nc),dtype=np.int64)\n",
    "    for i in range(1,lc+1):\n",
    "        cnkc[i-1,0] = 1\n",
    "    for i in range(1,lc+1):\n",
    "        for j in range(2,nc+1):\n",
    "            cnkc[i-1,j-1] = 0\n",
    "    for in1 in range(2,lc+1):\n",
    "        cnkc[in1-1,1] = np.sum(cnkc[in1-2,0:2])\n",
    "        if nc-1 > 1:\n",
    "            for in2 in range(1,nc+1):\n",
    "                cnkc[in1-1,in2-1] = np.sum(cnkc[in1-2,0:in2])\n",
    "    return cnkc, cnkc[lc-1,nc-1]"
   ]
  },
  {
   "cell_type": "code",
   "execution_count": 3,
   "id": "b7adab0e-8c9c-40f7-a318-4a4548f6afca",
   "metadata": {},
   "outputs": [
    {
     "name": "stdout",
     "output_type": "stream",
     "text": [
      "[[  1   0   0   0   0   0   0]\n",
      " [  1   1   1   1   1   1   1]\n",
      " [  1   2   3   4   5   6   7]\n",
      " [  1   3   6  10  15  21  28]\n",
      " [  1   4  10  20  35  56  84]\n",
      " [  1   5  15  35  70 126 210]\n",
      " [  1   6  21  56 126 252 462]]\n",
      "462\n"
     ]
    }
   ],
   "source": [
    "lc = 7 # number of sites + 1\n",
    "nc = 7 # number of atoms + 1\n",
    "cnkc, jmax = build_pascal(lc,nc)\n",
    "print(cnkc)\n",
    "print(jmax)"
   ]
  },
  {
   "cell_type": "code",
   "execution_count": 4,
   "id": "577e8550-d724-482e-94f8-6aba44b5dc59",
   "metadata": {},
   "outputs": [],
   "source": [
    "# Returns the position ind of the many body state bi\n",
    "## original code, redundant if clauses\n",
    "@jit(nopython=True)\n",
    "def b2in_orig_redundant(bi,ind,cnkc,lc,nc): # basis to index\n",
    "    ind[0] = 1 ## start from 1\n",
    "#    ind[0] = 0 ## start from 0\n",
    "    for ind_i in range(1,lc-1):\n",
    "        for ind_N in range(0,bi[ind_i-1]+1):\n",
    "            if bi[ind_i-1] - ind_N > 0:\n",
    "                suma = 0\n",
    "                for k in range(1,ind_i):\n",
    "                    suma += bi[k-1]\n",
    "                if lc - ind_i > 0 and nc - ind_N - suma > 0:\n",
    "                    ind[0] += cnkc[lc-ind_i-1,nc-ind_N-suma-1]\n",
    "    return 0"
   ]
  },
  {
   "cell_type": "code",
   "execution_count": 5,
   "id": "f376eec8-d01b-4dec-bf57-53f988e391ea",
   "metadata": {},
   "outputs": [],
   "source": [
    "# Returns the position ind of the many body state bi\n",
    "@jit(nopython=True)\n",
    "def b2in_orig(bi,ind,cnkc,lc,nc): # basis to index\n",
    "    ind[0] = 1 ## start from 1\n",
    "#    ind[0] = 0 ## start from 0\n",
    "    for ind_i in range(1,lc-1): # site loop\n",
    "        for ind_N in range(0,bi[ind_i-1]): # atom loop\n",
    "            suma = 0\n",
    "            for k in range(1,ind_i):\n",
    "                suma += bi[k-1]\n",
    "            if nc - ind_N - suma > 0:\n",
    "                ind[0] += cnkc[lc-ind_i-1,nc-ind_N-suma-1]\n",
    "    return 0"
   ]
  },
  {
   "cell_type": "code",
   "execution_count": 6,
   "id": "a11871d1-1774-4aa3-b908-ea2f360b4cf3",
   "metadata": {},
   "outputs": [],
   "source": [
    "# Returns the position ind of the many body state bi\n",
    "@jit(nopython=True)\n",
    "def b2in(bi,ind,cnkc,lc,nc): # basis to index\n",
    "    ind[0] = 1 ## start from 1\n",
    "    num = nc\n",
    "    for ind_site in range(1,lc-1): # site loop\n",
    "        numb = bi[ind_site-1]\n",
    "        ind[0] += np.sum(cnkc[lc-1-ind_site,num-numb:num])\n",
    "        #print(ind_site,num-1,numb,cnkc[lc-1-ind_site,num-numb:num])\n",
    "        num -= numb\n",
    "    return 0"
   ]
  },
  {
   "cell_type": "code",
   "execution_count": 7,
   "id": "0e9bfac2-15ed-4d46-97b5-9ccd1cc068e6",
   "metadata": {},
   "outputs": [
    {
     "name": "stdout",
     "output_type": "stream",
     "text": [
      "[2 1 1 0 2 0] 384 384\n",
      "[1 0 3 0 2 0] 259 259\n"
     ]
    }
   ],
   "source": [
    "lc = 7 # number of sites + 1\n",
    "nc = 7 # number of atoms + 1\n",
    "cnkc, jmax = build_pascal(lc,nc)\n",
    "\n",
    "#bi = np.zeros(lc-1,dtype=np.int64)\n",
    "ind = np.zeros(1,dtype=np.int64)\n",
    "ind_orig = np.zeros(1,dtype=np.int64)\n",
    "\n",
    "bi = np.array([2,1,1,0,2,0])\n",
    "b2in_orig(bi,ind_orig,cnkc,lc,nc)\n",
    "b2in(bi,ind,cnkc,lc,nc)\n",
    "print(bi,ind_orig[0],ind[0])\n",
    "\n",
    "bi = np.array([1,0,3,0,2,0])\n",
    "b2in_orig(bi,ind_orig,cnkc,lc,nc)\n",
    "b2in(bi,ind,cnkc,lc,nc)\n",
    "print(bi,ind_orig[0],ind[0])"
   ]
  },
  {
   "cell_type": "code",
   "execution_count": 8,
   "id": "9635fb94-c162-48f9-b2d1-c2c4b5240edf",
   "metadata": {},
   "outputs": [
    {
     "name": "stdout",
     "output_type": "stream",
     "text": [
      "[0 0 0 0 0 6] 1\n",
      "[1 1 1 1 1 1] 287\n",
      "[6 0 0 0 0 0] 462\n",
      "[1 0 3 0 2 0] 259\n",
      "[2 1 1 0 2 0] 384\n"
     ]
    }
   ],
   "source": [
    "lc = 7 # number of sites + 1\n",
    "nc = 7 # number of atoms + 1\n",
    "cnkc, jmax = build_pascal(lc,nc)\n",
    "\n",
    "#bi = np.zeros(lc-1,dtype=np.int64)\n",
    "ind = np.zeros(1,dtype=np.int64)\n",
    "\n",
    "bi = np.array([0,0,0,0,0,6])\n",
    "b2in(bi,ind,cnkc,lc,nc)\n",
    "print(bi,ind[0])\n",
    "\n",
    "bi = np.array([1,1,1,1,1,1])\n",
    "b2in(bi,ind,cnkc,lc,nc)\n",
    "print(bi,ind[0])\n",
    "\n",
    "bi = np.array([6,0,0,0,0,0])\n",
    "b2in(bi,ind,cnkc,lc,nc)\n",
    "print(bi,ind[0])\n",
    "\n",
    "bi = np.array([1,0,3,0,2,0])\n",
    "#bi = np.array([0,2,0,3,0,1])\n",
    "b2in(bi,ind,cnkc,lc,nc)\n",
    "print(bi,ind[0])\n",
    "\n",
    "bi = np.array([2,1,1,0,2,0])\n",
    "#bi = np.array([0,2,0,1,1,2])\n",
    "b2in(bi,ind,cnkc,lc,nc)\n",
    "print(bi,ind[0])"
   ]
  },
  {
   "cell_type": "code",
   "execution_count": 9,
   "id": "96b52d75-359f-419f-b438-6f0735ea8c6a",
   "metadata": {},
   "outputs": [],
   "source": [
    "# Returns the position ind of the many body state bi_short\n",
    "@jit(nopython=True)\n",
    "def bshort2in(bis,ind,cnkc,lc,nc): # basis to index\n",
    "    ind[0] = 1 ## start from 1\n",
    "    num = 2\n",
    "    for ind_atom in range(1,nc): # atom loop\n",
    "        ind_site = bis[ind_atom-1]\n",
    "        ind[0] += cnkc[ind_site-1,num-1]\n",
    "        #print(ind_atom,ind_site,num,cnkc[ind_site-1,num-1],ind[0])\n",
    "        num += 1\n",
    "    return 0"
   ]
  },
  {
   "cell_type": "code",
   "execution_count": 10,
   "id": "a8242663-e6b6-4f59-9987-120255e99457",
   "metadata": {},
   "outputs": [
    {
     "name": "stdout",
     "output_type": "stream",
     "text": [
      "[2 2 4 5 6 6] 384\n"
     ]
    }
   ],
   "source": [
    "lc = 7 # number of sites + 1\n",
    "nc = 7 # number of atoms + 1\n",
    "cnkc, jmax = build_pascal(lc,nc)\n",
    "\n",
    "#bis = np.zeros(nc-1,dtype=np.int64)\n",
    "ind = np.zeros(1,dtype=np.int64)\n",
    "\n",
    "bis = np.array([2,2,4,5,6,6])\n",
    "bshort2in(bis,ind,cnkc,lc,nc)\n",
    "print(bis,ind[0])"
   ]
  },
  {
   "cell_type": "code",
   "execution_count": 11,
   "id": "3e2e1188-2dd1-4d09-a099-8a4d160ea292",
   "metadata": {},
   "outputs": [],
   "source": [
    "# Returns the many body state bi at position ind\n",
    "@jit(nopython=True)\n",
    "def in2b(bi,ind,cnkc,lc,nc): # index to basis\n",
    "    ind_i = ind[0] - 1 ## ind[0] runs from 1 to jmax=cnkc[ind_lc-1,ind_nc-1]\n",
    "    bi[:] = 0\n",
    "    ind_L = lc - 1\n",
    "    ind_N = nc\n",
    "    while ind_N > 1: # atom loop\n",
    "        if ind_i >= cnkc[ind_L-1,ind_N-1]: # condition for site\n",
    "            ind_i -= cnkc[ind_L-1,ind_N-1]\n",
    "            bi[lc-ind_L-1] += 1\n",
    "            ind_N -= 1\n",
    "        else:\n",
    "            ind_L -= 1\n",
    "    return 0"
   ]
  },
  {
   "cell_type": "code",
   "execution_count": 12,
   "id": "191ffb05-31b5-42b1-81da-dcb93fe19a15",
   "metadata": {},
   "outputs": [
    {
     "name": "stdout",
     "output_type": "stream",
     "text": [
      "[2 1 1 0 2 0] 384\n"
     ]
    }
   ],
   "source": [
    "lc = 7 # number of sites + 1\n",
    "nc = 7 # number of atoms + 1\n",
    "cnkc, jmax = build_pascal(lc,nc)\n",
    "\n",
    "bi = np.zeros(lc-1,dtype=np.int64)\n",
    "ind = np.zeros(1,dtype=np.int64)\n",
    "ind[0] = 384\n",
    "in2b(bi,ind,cnkc,lc,nc)\n",
    "print(bi,ind[0])"
   ]
  },
  {
   "cell_type": "code",
   "execution_count": 13,
   "id": "d8916bb2-3090-4a41-b27f-876b48f24fa6",
   "metadata": {},
   "outputs": [],
   "source": [
    "# Returns the many body state bi_short at position ind\n",
    "@jit(nopython=True)\n",
    "def in2bshort(bis,ind,cnkc,lc,nc): # index to basis short\n",
    "    ind_i = ind[0] - 1 ## ind[0] runs from 1 to jmax=cnkc[ind_lc-1,ind_nc-1]\n",
    "    bis[:] = 0\n",
    "    ind_L = lc - 1\n",
    "    ind_N = nc\n",
    "    while ind_N > 1: # atom loop\n",
    "        if ind_i >= cnkc[ind_L-1,ind_N-1]: # condition for site\n",
    "            ind_i -= cnkc[ind_L-1,ind_N-1]\n",
    "            bis[ind_N-2] = ind_L\n",
    "            ind_N -= 1\n",
    "        else:\n",
    "            ind_L -= 1\n",
    "    return 0"
   ]
  },
  {
   "cell_type": "code",
   "execution_count": 14,
   "id": "6b10e6f3-43f7-4493-b560-9abb3ed6ea10",
   "metadata": {},
   "outputs": [
    {
     "name": "stdout",
     "output_type": "stream",
     "text": [
      "[2 2 4 5 6 6] 384\n"
     ]
    }
   ],
   "source": [
    "lc = 7 # number of sites + 1\n",
    "nc = 7 # number of atoms + 1\n",
    "cnkc, jmax = build_pascal(lc,nc)\n",
    "\n",
    "bis = np.zeros(nc-1,dtype=np.int64)\n",
    "ind = np.zeros(1,dtype=np.int64)\n",
    "ind[0] = 384\n",
    "in2bshort(bis,ind,cnkc,lc,nc)\n",
    "print(bis,ind[0])"
   ]
  },
  {
   "cell_type": "code",
   "execution_count": 15,
   "id": "6b47bf95-27f8-4b70-be52-37a14bee03f7",
   "metadata": {},
   "outputs": [],
   "source": [
    "@jit(nopython=True)\n",
    "def binary_search(s,list_s,ls,le):\n",
    "    bmin = ls; bmax = le\n",
    "    while True:\n",
    "        b = bmin + (bmax-bmin)//2\n",
    "        if s < list_s[b-1]:\n",
    "            bmax = b - 1\n",
    "        elif list_s[b-1] < s:\n",
    "            bmin = b + 1\n",
    "        else:\n",
    "            bmin = b\n",
    "            return b, bmin\n",
    "        if bmin > bmax:\n",
    "            b = -1\n",
    "            return b, bmin\n",
    "    return b, bmin"
   ]
  },
  {
   "cell_type": "code",
   "execution_count": 16,
   "id": "46a85fa7-a622-4b66-af14-254b9a0ff8e8",
   "metadata": {},
   "outputs": [
    {
     "name": "stdout",
     "output_type": "stream",
     "text": [
      "[  0   1   7  28  84 210 462]\n",
      "\n",
      "-2 -1 1\n",
      "-1 -1 1\n",
      "5 -1 3\n",
      "26 -1 4\n",
      "82 -1 5\n",
      "208 -1 6\n",
      "460 -1 7\n",
      "\n",
      "-1 -1 1\n",
      "0 1 1\n",
      "6 -1 3\n",
      "27 -1 4\n",
      "83 -1 5\n",
      "209 -1 6\n",
      "461 -1 7\n",
      "\n",
      "0 1 1\n",
      "1 2 2\n",
      "7 3 3\n",
      "28 4 4\n",
      "84 5 5\n",
      "210 6 6\n",
      "462 7 7\n",
      "\n",
      "1 2 2\n",
      "2 -1 3\n",
      "8 -1 4\n",
      "29 -1 5\n",
      "85 -1 6\n",
      "211 -1 7\n",
      "463 -1 8\n",
      "\n",
      "2 -1 3\n",
      "3 -1 3\n",
      "9 -1 4\n",
      "30 -1 5\n",
      "86 -1 6\n",
      "212 -1 7\n",
      "464 -1 8\n",
      "\n"
     ]
    }
   ],
   "source": [
    "lc = 7 # number of sites + 1\n",
    "nc = 7 # number of atoms + 1\n",
    "cnkc, jmax = build_pascal(lc,nc)\n",
    "\n",
    "print(cnkc[:,nc-1])\n",
    "print()\n",
    "\n",
    "for i in cnkc[:,nc-1]-2:\n",
    "    b, bmin = binary_search(i,cnkc[:,nc-1],1,lc)\n",
    "    print(i,b,bmin)\n",
    "print()\n",
    "\n",
    "for i in cnkc[:,nc-1]-1:\n",
    "    b, bmin = binary_search(i,cnkc[:,nc-1],1,lc)\n",
    "    print(i,b,bmin)\n",
    "print()\n",
    "\n",
    "for i in cnkc[:,nc-1]:\n",
    "    b, bmin = binary_search(i,cnkc[:,nc-1],1,lc)\n",
    "    print(i,b,bmin)\n",
    "print()\n",
    "\n",
    "for i in cnkc[:,nc-1]+1:\n",
    "    b, bmin = binary_search(i,cnkc[:,nc-1],1,lc)\n",
    "    print(i,b,bmin)\n",
    "print()\n",
    "\n",
    "for i in cnkc[:,nc-1]+2:\n",
    "    b, bmin = binary_search(i,cnkc[:,nc-1],1,lc)\n",
    "    print(i,b,bmin)\n",
    "print()"
   ]
  },
  {
   "cell_type": "code",
   "execution_count": 17,
   "id": "68a3cd73-314e-4e73-97e0-ecdace0a7808",
   "metadata": {},
   "outputs": [],
   "source": [
    "# Returns the many body state bi_short at position ind\n",
    "# using binary search\n",
    "@jit(nopython=True)\n",
    "def in2bshort_bs(bis,ind,cnkc,lc,nc): # index to basis short\n",
    "    ind_i = ind[0] ## ind[0] runs from 1 to jmax=cnkc[ind_lc-1,ind_nc-1]\n",
    "    bis[:] = 0\n",
    "    ind_site = lc\n",
    "    for ind_atom in range(nc,1,-1): # atom loop\n",
    "        icnkc, icnkcmin = binary_search(ind_i,cnkc[:ind_site,ind_atom-1],1,ind_site)\n",
    "        #print(ind_atom,ind_i,icnkc,icnkcmin,cnkc[:ind_site,ind_atom-1],cnkc[icnkcmin-2,ind_atom-1])\n",
    "        ind_i -= cnkc[icnkcmin-2,ind_atom-1]\n",
    "        bis[ind_atom-2] = icnkcmin-1\n",
    "        ind_site = icnkcmin\n",
    "    return 0"
   ]
  },
  {
   "cell_type": "code",
   "execution_count": 18,
   "id": "9762898c-d4e2-411d-b2f0-1bb6ec2b8ad7",
   "metadata": {},
   "outputs": [
    {
     "name": "stdout",
     "output_type": "stream",
     "text": [
      "[2 2 4 5 6 6] 384\n",
      "\n",
      "[2 2 4 4 4 6] 259\n",
      "\n",
      "[1 1 1 1 1 1] 1\n",
      "\n",
      "[6 6 6 6 6 6] 462\n",
      "\n"
     ]
    }
   ],
   "source": [
    "lc = 7 # number of sites + 1\n",
    "nc = 7 # number of atoms + 1\n",
    "cnkc, jmax = build_pascal(lc,nc)\n",
    "\n",
    "bis = np.zeros(nc-1,dtype=np.int64)\n",
    "ind = np.zeros(1,dtype=np.int64)\n",
    "\n",
    "ind[0] = 384\n",
    "in2bshort_bs(bis,ind,cnkc,lc,nc)\n",
    "print(bis,ind[0])\n",
    "print()\n",
    "\n",
    "ind[0] = 259\n",
    "in2bshort_bs(bis,ind,cnkc,lc,nc)\n",
    "print(bis,ind[0])\n",
    "print()\n",
    "\n",
    "ind[0] = 1\n",
    "in2bshort_bs(bis,ind,cnkc,lc,nc)\n",
    "print(bis,ind[0])\n",
    "print()\n",
    "\n",
    "ind[0] = jmax\n",
    "in2bshort_bs(bis,ind,cnkc,lc,nc)\n",
    "print(bis,ind[0])\n",
    "print()"
   ]
  },
  {
   "cell_type": "code",
   "execution_count": 19,
   "id": "afab3ff2-5e93-489b-9496-86a033d5b73e",
   "metadata": {},
   "outputs": [
    {
     "name": "stdout",
     "output_type": "stream",
     "text": [
      "1 [0 0 0 0 0 6] 1   1 [1 1 1 1 1 1] 1   1 [1 1 1 1 1 1] 1\n",
      "2 [0 0 0 0 1 5] 2   2 [1 1 1 1 1 2] 2   2 [1 1 1 1 1 2] 2\n",
      "3 [0 0 0 0 2 4] 3   3 [1 1 1 1 2 2] 3   3 [1 1 1 1 2 2] 3\n",
      "4 [0 0 0 0 3 3] 4   4 [1 1 1 2 2 2] 4   4 [1 1 1 2 2 2] 4\n",
      "5 [0 0 0 0 4 2] 5   5 [1 1 2 2 2 2] 5   5 [1 1 2 2 2 2] 5\n",
      "6 [0 0 0 0 5 1] 6   6 [1 2 2 2 2 2] 6   6 [1 2 2 2 2 2] 6\n",
      "7 [0 0 0 0 6 0] 7   7 [2 2 2 2 2 2] 7   7 [2 2 2 2 2 2] 7\n",
      "8 [0 0 0 1 0 5] 8   8 [1 1 1 1 1 3] 8   8 [1 1 1 1 1 3] 8\n",
      "259 [1 0 3 0 2 0] 259   259 [2 2 4 4 4 6] 259   259 [2 2 4 4 4 6] 259\n",
      "384 [2 1 1 0 2 0] 384   384 [2 2 4 5 6 6] 384   384 [2 2 4 5 6 6] 384\n",
      "455 [4 1 1 0 0 0] 455   455 [4 5 6 6 6 6] 455   455 [4 5 6 6 6 6] 455\n",
      "456 [4 2 0 0 0 0] 456   456 [5 5 6 6 6 6] 456   456 [5 5 6 6 6 6] 456\n",
      "457 [5 0 0 0 0 1] 457   457 [1 6 6 6 6 6] 457   457 [1 6 6 6 6 6] 457\n",
      "458 [5 0 0 0 1 0] 458   458 [2 6 6 6 6 6] 458   458 [2 6 6 6 6 6] 458\n",
      "459 [5 0 0 1 0 0] 459   459 [3 6 6 6 6 6] 459   459 [3 6 6 6 6 6] 459\n",
      "460 [5 0 1 0 0 0] 460   460 [4 6 6 6 6 6] 460   460 [4 6 6 6 6 6] 460\n",
      "461 [5 1 0 0 0 0] 461   461 [5 6 6 6 6 6] 461   461 [5 6 6 6 6 6] 461\n",
      "462 [6 0 0 0 0 0] 462   462 [6 6 6 6 6 6] 462   462 [6 6 6 6 6 6] 462\n"
     ]
    }
   ],
   "source": [
    "lc = 7 # number of sites + 1\n",
    "nc = 7 # number of atoms + 1\n",
    "cnkc, jmax = build_pascal(lc,nc)\n",
    "\n",
    "bi = np.zeros(lc-1,dtype=np.int64)\n",
    "bis = np.zeros(nc-1,dtype=np.int64)\n",
    "bis_bs = np.zeros(nc-1,dtype=np.int64)\n",
    "ind = np.zeros(1,dtype=np.int64)\n",
    "ind_bi = np.zeros(1,dtype=np.int64)\n",
    "ind_bis = np.zeros(1,dtype=np.int64)\n",
    "ind_bis_bs = np.zeros(1,dtype=np.int64)\n",
    "\n",
    "#for i in range(1,jmax+1):\n",
    "for i in list(range(1,9))+[259]+[384]+list(range(jmax+1-8,jmax+1)):\n",
    "    ind[0] = i\n",
    "    in2b(bi,ind,cnkc,lc,nc)\n",
    "    in2bshort(bis,ind,cnkc,lc,nc)\n",
    "    in2bshort_bs(bis_bs,ind,cnkc,lc,nc)\n",
    "    b2in(bi,ind_bi,cnkc,lc,nc)\n",
    "    bshort2in(bis,ind_bis,cnkc,lc,nc)\n",
    "    bshort2in(bis_bs,ind_bis_bs,cnkc,lc,nc)\n",
    "    print(ind[0],bi,ind_bi[0],\" \",ind[0],bis,ind_bis[0],\" \",ind[0],bis_bs,ind_bis_bs[0])"
   ]
  },
  {
   "cell_type": "code",
   "execution_count": 20,
   "id": "451aad6f-4c2e-410d-a8e0-a8972af8baa9",
   "metadata": {},
   "outputs": [
    {
     "name": "stdout",
     "output_type": "stream",
     "text": [
      "1 [0 0 0 0 0 0 0 0 0 0 0 0 0 0 0 0 0 0 0 0 0 0 0 3] 1   1 [1 1 1] 1   1 [1 1 1] 1\n",
      "2 [0 0 0 0 0 0 0 0 0 0 0 0 0 0 0 0 0 0 0 0 0 0 1 2] 2   2 [1 1 2] 2   2 [1 1 2] 2\n",
      "3 [0 0 0 0 0 0 0 0 0 0 0 0 0 0 0 0 0 0 0 0 0 0 2 1] 3   3 [1 2 2] 3   3 [1 2 2] 3\n",
      "4 [0 0 0 0 0 0 0 0 0 0 0 0 0 0 0 0 0 0 0 0 0 0 3 0] 4   4 [2 2 2] 4   4 [2 2 2] 4\n",
      "5 [0 0 0 0 0 0 0 0 0 0 0 0 0 0 0 0 0 0 0 0 0 1 0 2] 5   5 [1 1 3] 5   5 [1 1 3] 5\n",
      "6 [0 0 0 0 0 0 0 0 0 0 0 0 0 0 0 0 0 0 0 0 0 1 1 1] 6   6 [1 2 3] 6   6 [1 2 3] 6\n",
      "7 [0 0 0 0 0 0 0 0 0 0 0 0 0 0 0 0 0 0 0 0 0 1 2 0] 7   7 [2 2 3] 7   7 [2 2 3] 7\n",
      "8 [0 0 0 0 0 0 0 0 0 0 0 0 0 0 0 0 0 0 0 0 0 2 0 1] 8   8 [1 3 3] 8   8 [1 3 3] 8\n",
      "2593 [2 0 0 0 0 0 0 1 0 0 0 0 0 0 0 0 0 0 0 0 0 0 0 0] 2593   2593 [17 24 24] 2593   2593 [17 24 24] 2593\n",
      "2594 [2 0 0 0 0 0 1 0 0 0 0 0 0 0 0 0 0 0 0 0 0 0 0 0] 2594   2594 [18 24 24] 2594   2594 [18 24 24] 2594\n",
      "2595 [2 0 0 0 0 1 0 0 0 0 0 0 0 0 0 0 0 0 0 0 0 0 0 0] 2595   2595 [19 24 24] 2595   2595 [19 24 24] 2595\n",
      "2596 [2 0 0 0 1 0 0 0 0 0 0 0 0 0 0 0 0 0 0 0 0 0 0 0] 2596   2596 [20 24 24] 2596   2596 [20 24 24] 2596\n",
      "2597 [2 0 0 1 0 0 0 0 0 0 0 0 0 0 0 0 0 0 0 0 0 0 0 0] 2597   2597 [21 24 24] 2597   2597 [21 24 24] 2597\n",
      "2598 [2 0 1 0 0 0 0 0 0 0 0 0 0 0 0 0 0 0 0 0 0 0 0 0] 2598   2598 [22 24 24] 2598   2598 [22 24 24] 2598\n",
      "2599 [2 1 0 0 0 0 0 0 0 0 0 0 0 0 0 0 0 0 0 0 0 0 0 0] 2599   2599 [23 24 24] 2599   2599 [23 24 24] 2599\n",
      "2600 [3 0 0 0 0 0 0 0 0 0 0 0 0 0 0 0 0 0 0 0 0 0 0 0] 2600   2600 [24 24 24] 2600   2600 [24 24 24] 2600\n"
     ]
    }
   ],
   "source": [
    "#lc = 33 # number of sites + 1\n",
    "lc = 25 # number of sites + 1\n",
    "nc = 4 # number of atoms + 1\n",
    "cnkc, jmax = build_pascal(lc,nc)\n",
    "\n",
    "bi = np.zeros(lc-1,dtype=np.int64)\n",
    "bis = np.zeros(nc-1,dtype=np.int64)\n",
    "bis_bs = np.zeros(nc-1,dtype=np.int64)\n",
    "ind = np.zeros(1,dtype=np.int64)\n",
    "ind_bi = np.zeros(1,dtype=np.int64)\n",
    "ind_bis = np.zeros(1,dtype=np.int64)\n",
    "ind_bis_bs = np.zeros(1,dtype=np.int64)\n",
    "\n",
    "#for i in range(1,jmax+1):\n",
    "for i in list(range(1,9))+list(range(jmax+1-8,jmax+1)):\n",
    "    ind[0] = i\n",
    "    in2b(bi,ind,cnkc,lc,nc)\n",
    "    in2bshort(bis,ind,cnkc,lc,nc)\n",
    "    in2bshort_bs(bis_bs,ind,cnkc,lc,nc)\n",
    "    b2in(bi,ind_bi,cnkc,lc,nc)\n",
    "    bshort2in(bis,ind_bis,cnkc,lc,nc)\n",
    "    bshort2in(bis_bs,ind_bis_bs,cnkc,lc,nc)\n",
    "    print(ind[0],bi,ind_bi[0],\" \",ind[0],bis,ind_bis[0],\" \",ind[0],bis_bs,ind_bis_bs[0])"
   ]
  },
  {
   "cell_type": "code",
   "execution_count": 21,
   "id": "5e6d2a27-1924-4222-b76e-bd0eef1582e9",
   "metadata": {},
   "outputs": [],
   "source": [
    "@jit(nopython=True)\n",
    "def mkncfg(bis,tmp_n_site,tmp_n_atom):\n",
    "    tmp_n_site[:] = 0\n",
    "    tmp_n_atom[:] = 0\n",
    "    cnt = 0\n",
    "    tmp_n_site[cnt] = bis[cnt]\n",
    "    tmp_n_atom[cnt] = 1\n",
    "    for i in range(1,len(bis)):\n",
    "        if bis[i] > bis[i-1]:\n",
    "            cnt += 1\n",
    "            tmp_n_site[cnt] = bis[i]\n",
    "            tmp_n_atom[cnt] = 1\n",
    "        else:\n",
    "            tmp_n_atom[cnt] += 1\n",
    "    return 0"
   ]
  },
  {
   "cell_type": "code",
   "execution_count": 22,
   "id": "2540d388-2993-4e51-8704-f63a33b89f7d",
   "metadata": {},
   "outputs": [],
   "source": [
    "@jit(nopython=True)\n",
    "def mknidx(bis,tmp_n_site,tmp_n_atom):\n",
    "    bis[:] = 0\n",
    "    cnt = 0\n",
    "    for i,n in enumerate(tmp_n_atom):\n",
    "        for _ in range(n):\n",
    "            bis[cnt] = tmp_n_site[i]\n",
    "            #print(i,cnt,n,tmp_n_site[i])\n",
    "            cnt += 1\n",
    "    return 0"
   ]
  },
  {
   "cell_type": "code",
   "execution_count": 23,
   "id": "86cbca63-d6da-44c6-a6af-4d700362b232",
   "metadata": {},
   "outputs": [
    {
     "name": "stdout",
     "output_type": "stream",
     "text": [
      "[2 2 4 5 6 6] 384 [2 4 5 6 0 0] [2 1 1 2 0 0] [2 2 4 5 6 6]\n",
      "\n",
      "[2 2 4 4 4 6] 259 [2 4 6 0 0 0] [2 3 1 0 0 0] [2 2 4 4 4 6]\n",
      "\n",
      "[1 1 1 1 1 1] 1 [1 0 0 0 0 0] [6 0 0 0 0 0] [1 1 1 1 1 1]\n",
      "\n",
      "[6 6 6 6 6 6] 462 [6 0 0 0 0 0] [6 0 0 0 0 0] [6 6 6 6 6 6]\n",
      "\n"
     ]
    }
   ],
   "source": [
    "lc = 7 # number of sites + 1\n",
    "nc = 7 # number of atoms + 1\n",
    "cnkc, jmax = build_pascal(lc,nc)\n",
    "\n",
    "bis = np.zeros(nc-1,dtype=np.int64)\n",
    "ind = np.zeros(1,dtype=np.int64)\n",
    "tmp_n_site = np.zeros(nc-1,dtype=np.int64)\n",
    "tmp_n_atom = np.zeros(nc-1,dtype=np.int64)\n",
    "bis2 = np.zeros(nc-1,dtype=np.int64)\n",
    "\n",
    "ind[0] = 384\n",
    "in2bshort_bs(bis,ind,cnkc,lc,nc)\n",
    "mkncfg(bis,tmp_n_site,tmp_n_atom)\n",
    "mknidx(bis2,tmp_n_site,tmp_n_atom)\n",
    "print(bis,ind[0],tmp_n_site,tmp_n_atom,bis2)\n",
    "print()\n",
    "\n",
    "ind[0] = 259\n",
    "in2bshort_bs(bis,ind,cnkc,lc,nc)\n",
    "mkncfg(bis,tmp_n_site,tmp_n_atom)\n",
    "mknidx(bis2,tmp_n_site,tmp_n_atom)\n",
    "print(bis,ind[0],tmp_n_site,tmp_n_atom,bis2)\n",
    "print()\n",
    "\n",
    "ind[0] = 1\n",
    "in2bshort_bs(bis,ind,cnkc,lc,nc)\n",
    "mkncfg(bis,tmp_n_site,tmp_n_atom)\n",
    "mknidx(bis2,tmp_n_site,tmp_n_atom)\n",
    "print(bis,ind[0],tmp_n_site,tmp_n_atom,bis2)\n",
    "print()\n",
    "\n",
    "ind[0] = jmax\n",
    "in2bshort_bs(bis,ind,cnkc,lc,nc)\n",
    "mkncfg(bis,tmp_n_site,tmp_n_atom)\n",
    "mknidx(bis2,tmp_n_site,tmp_n_atom)\n",
    "print(bis,ind[0],tmp_n_site,tmp_n_atom,bis2)\n",
    "print()"
   ]
  },
  {
   "cell_type": "code",
   "execution_count": 24,
   "id": "455d2593-bade-4415-9af9-4ad0a96b6907",
   "metadata": {},
   "outputs": [
    {
     "name": "stdout",
     "output_type": "stream",
     "text": [
      "[2 4 5 6 0 0] [2 1 1 2 0 0] [2 2 4 5 6 6]\n",
      "\n",
      "[2 3 4 5 6 0] [2 0 1 1 2 0] [2 2 4 5 6 6]\n",
      "\n",
      "[4 5 2 6 0 0] [1 1 2 2 0 0] [4 5 2 2 6 6]\n",
      "[4 5 2 6 0 0] [1 1 2 2 0 0] [2 2 4 5 6 6]\n",
      "\n",
      "[6 5 4 3 2 1] [2 1 1 0 2 0] [6 6 5 4 2 2]\n",
      "[6 5 4 3 2 1] [2 1 1 0 2 0] [2 2 4 5 6 6]\n",
      "\n"
     ]
    }
   ],
   "source": [
    "lc = 7 # number of sites + 1\n",
    "nc = 7 # number of atoms + 1\n",
    "cnkc, jmax = build_pascal(lc,nc)\n",
    "\n",
    "bis = np.zeros(nc-1,dtype=np.int64)\n",
    "ind = np.zeros(1,dtype=np.int64)\n",
    "tmp_n_site = np.zeros(nc-1,dtype=np.int64)\n",
    "tmp_n_atom = np.zeros(nc-1,dtype=np.int64)\n",
    "bis2 = np.zeros(nc-1,dtype=np.int64)\n",
    "\n",
    "tmp_n_site = np.array([2,4,5,6,0,0])\n",
    "tmp_n_atom = np.array([2,1,1,2,0,0])\n",
    "mknidx(bis2,tmp_n_site,tmp_n_atom)\n",
    "print(tmp_n_site,tmp_n_atom,bis2)\n",
    "print()\n",
    "\n",
    "tmp_n_site = np.array([2,3,4,5,6,0])\n",
    "tmp_n_atom = np.array([2,0,1,1,2,0])\n",
    "mknidx(bis2,tmp_n_site,tmp_n_atom)\n",
    "print(tmp_n_site,tmp_n_atom,bis2)\n",
    "print()\n",
    "\n",
    "tmp_n_site = np.array([4,5,2,6,0,0])\n",
    "tmp_n_atom = np.array([1,1,2,2,0,0])\n",
    "mknidx(bis2,tmp_n_site,tmp_n_atom)\n",
    "print(tmp_n_site,tmp_n_atom,bis2)\n",
    "bis2.sort()\n",
    "print(tmp_n_site,tmp_n_atom,bis2)\n",
    "print()\n",
    "\n",
    "tmp_n_site = np.array([6,5,4,3,2,1])\n",
    "tmp_n_atom = np.array([2,1,1,0,2,0])\n",
    "mknidx(bis2,tmp_n_site,tmp_n_atom)\n",
    "print(tmp_n_site,tmp_n_atom,bis2)\n",
    "bis2.sort()\n",
    "print(tmp_n_site,tmp_n_atom,bis2)\n",
    "print()"
   ]
  },
  {
   "cell_type": "code",
   "execution_count": null,
   "id": "c9d75b68-ac1f-4996-8ded-12015cb31c55",
   "metadata": {},
   "outputs": [],
   "source": []
  }
 ],
 "metadata": {
  "kernelspec": {
   "display_name": "Python 3 (ipykernel)",
   "language": "python",
   "name": "python3"
  },
  "language_info": {
   "codemirror_mode": {
    "name": "ipython",
    "version": 3
   },
   "file_extension": ".py",
   "mimetype": "text/x-python",
   "name": "python",
   "nbconvert_exporter": "python",
   "pygments_lexer": "ipython3",
   "version": "3.8.12"
  }
 },
 "nbformat": 4,
 "nbformat_minor": 5
}
