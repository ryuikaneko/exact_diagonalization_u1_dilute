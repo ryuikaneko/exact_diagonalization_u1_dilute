{
  "cells": [
    {
      "cell_type": "code",
      "source": [
        "## https://colab.research.google.com/github/ageron/julia_notebooks/blob/master/Julia_Colab_Notebook_Template.ipynb\n",
        "\n",
        "%%shell\n",
        "set -e\n",
        "\n",
        "#---------------------------------------------------#\n",
        "JULIA_VERSION=\"1.7.1\" # any version ≥ 0.7.0\n",
        "JULIA_PACKAGES=\"IJulia BenchmarkTools Plots\"\n",
        "JULIA_PACKAGES_IF_GPU=\"CUDA\" # or CuArrays for older Julia versions\n",
        "JULIA_NUM_THREADS=2\n",
        "#---------------------------------------------------#\n",
        "\n",
        "if [ -n \"$COLAB_GPU\" ] && [ -z `which julia` ]; then\n",
        "  # Install Julia\n",
        "  JULIA_VER=`cut -d '.' -f -2 <<< \"$JULIA_VERSION\"`\n",
        "  echo \"Installing Julia $JULIA_VERSION on the current Colab Runtime...\"\n",
        "  BASE_URL=\"https://julialang-s3.julialang.org/bin/linux/x64\"\n",
        "  URL=\"$BASE_URL/$JULIA_VER/julia-$JULIA_VERSION-linux-x86_64.tar.gz\"\n",
        "  wget -nv $URL -O /tmp/julia.tar.gz # -nv means \"not verbose\"\n",
        "  tar -x -f /tmp/julia.tar.gz -C /usr/local --strip-components 1\n",
        "  rm /tmp/julia.tar.gz\n",
        "\n",
        "  # Install Packages\n",
        "  if [ \"$COLAB_GPU\" = \"1\" ]; then\n",
        "      JULIA_PACKAGES=\"$JULIA_PACKAGES $JULIA_PACKAGES_IF_GPU\"\n",
        "  fi\n",
        "  for PKG in `echo $JULIA_PACKAGES`; do\n",
        "    echo \"Installing Julia package $PKG...\"\n",
        "    julia -e 'using Pkg; pkg\"add '$PKG'; precompile;\"' &> /dev/null\n",
        "  done\n",
        "\n",
        "  # Install kernel and rename it to \"julia\"\n",
        "  echo \"Installing IJulia kernel...\"\n",
        "  julia -e 'using IJulia; IJulia.installkernel(\"julia\", env=Dict(\n",
        "      \"JULIA_NUM_THREADS\"=>\"'\"$JULIA_NUM_THREADS\"'\"))'\n",
        "  KERNEL_DIR=`julia -e \"using IJulia; print(IJulia.kerneldir())\"`\n",
        "  KERNEL_NAME=`ls -d \"$KERNEL_DIR\"/julia*`\n",
        "  mv -f $KERNEL_NAME \"$KERNEL_DIR\"/julia  \n",
        "\n",
        "  echo ''\n",
        "  echo \"Successfully installed `julia -v`!\"\n",
        "  echo \"Please reload this page (press Ctrl+R, ⌘+R, or the F5 key) then\"\n",
        "  echo \"jump to the 'Checking the Installation' section.\"\n",
        "fi"
      ],
      "metadata": {
        "colab": {
          "base_uri": "https://localhost:8080/"
        },
        "id": "axKIMsUiwbAy",
        "outputId": "043853c0-ef6c-49b4-cf3b-fdb97dac62c0"
      },
      "id": "axKIMsUiwbAy",
      "execution_count": null,
      "outputs": [
        {
          "output_type": "stream",
          "name": "stdout",
          "text": [
            "Installing Julia 1.7.1 on the current Colab Runtime...\n",
            "2022-01-12 02:02:20 URL:https://storage.googleapis.com/julialang2/bin/linux/x64/1.7/julia-1.7.1-linux-x86_64.tar.gz [123374573/123374573] -> \"/tmp/julia.tar.gz\" [1]\n",
            "Installing Julia package IJulia...\n",
            "Installing Julia package BenchmarkTools...\n",
            "Installing Julia package Plots...\n"
          ]
        }
      ]
    },
    {
      "cell_type": "code",
      "execution_count": 1,
      "id": "b463ba94-e940-47ae-a726-83b2715b7572",
      "metadata": {
        "colab": {
          "base_uri": "https://localhost:8080/"
        },
        "id": "b463ba94-e940-47ae-a726-83b2715b7572",
        "outputId": "0f55178c-e80e-45ea-a0f6-fb78de622a2d"
      },
      "outputs": [
        {
          "output_type": "stream",
          "name": "stdout",
          "text": [
            "Julia Version 1.7.1\n",
            "Commit ac5cc99908 (2021-12-22 19:35 UTC)\n",
            "Platform Info:\n",
            "  OS: Linux (x86_64-pc-linux-gnu)\n",
            "  CPU: Intel(R) Xeon(R) CPU @ 2.20GHz\n",
            "  WORD_SIZE: 64\n",
            "  LIBM: libopenlibm\n",
            "  LLVM: libLLVM-12.0.1 (ORCJIT, broadwell)\n",
            "Environment:\n",
            "  JULIA_NUM_THREADS = 2\n"
          ]
        }
      ],
      "source": [
        "versioninfo()"
      ]
    },
    {
      "cell_type": "code",
      "execution_count": 2,
      "id": "42b07027-823e-41d2-bcee-683c229d2c9b",
      "metadata": {
        "id": "42b07027-823e-41d2-bcee-683c229d2c9b",
        "colab": {
          "base_uri": "https://localhost:8080/"
        },
        "outputId": "dd83866d-0140-4d4e-9035-aa42fa0b50a0"
      },
      "outputs": [
        {
          "output_type": "stream",
          "name": "stderr",
          "text": [
            "\u001b[32m\u001b[1m    Updating\u001b[22m\u001b[39m registry at `~/.julia/registries/General.toml`\n",
            "\u001b[32m\u001b[1m   Resolving\u001b[22m\u001b[39m package versions...\n",
            "\u001b[32m\u001b[1m   Installed\u001b[22m\u001b[39m Arpack_jll ─ v3.5.0+3\n",
            "\u001b[32m\u001b[1m   Installed\u001b[22m\u001b[39m Arpack ───── v0.5.3\n",
            "\u001b[32m\u001b[1m    Updating\u001b[22m\u001b[39m `~/.julia/environments/v1.7/Project.toml`\n",
            " \u001b[90m [7d9fca2a] \u001b[39m\u001b[92m+ Arpack v0.5.3\u001b[39m\n",
            "\u001b[32m\u001b[1m    Updating\u001b[22m\u001b[39m `~/.julia/environments/v1.7/Manifest.toml`\n",
            " \u001b[90m [7d9fca2a] \u001b[39m\u001b[92m+ Arpack v0.5.3\u001b[39m\n",
            " \u001b[90m [68821587] \u001b[39m\u001b[92m+ Arpack_jll v3.5.0+3\u001b[39m\n",
            "\u001b[32m\u001b[1mPrecompiling\u001b[22m\u001b[39m project...\n",
            "\u001b[32m  ✓ \u001b[39m\u001b[90mArpack_jll\u001b[39m\n",
            "\u001b[32m  ✓ \u001b[39mArpack\n",
            "  2 dependencies successfully precompiled in 2 seconds (134 already precompiled)\n",
            "\u001b[32m\u001b[1m   Resolving\u001b[22m\u001b[39m package versions...\n",
            "\u001b[32m\u001b[1m   Installed\u001b[22m\u001b[39m TextWrap ─ v1.0.1\n",
            "\u001b[32m\u001b[1m   Installed\u001b[22m\u001b[39m ArgParse ─ v1.1.4\n",
            "\u001b[32m\u001b[1m    Updating\u001b[22m\u001b[39m `~/.julia/environments/v1.7/Project.toml`\n",
            " \u001b[90m [c7e460c6] \u001b[39m\u001b[92m+ ArgParse v1.1.4\u001b[39m\n",
            "\u001b[32m\u001b[1m    Updating\u001b[22m\u001b[39m `~/.julia/environments/v1.7/Manifest.toml`\n",
            " \u001b[90m [c7e460c6] \u001b[39m\u001b[92m+ ArgParse v1.1.4\u001b[39m\n",
            " \u001b[90m [b718987f] \u001b[39m\u001b[92m+ TextWrap v1.0.1\u001b[39m\n",
            "\u001b[32m\u001b[1mPrecompiling\u001b[22m\u001b[39m project...\n",
            "\u001b[32m  ✓ \u001b[39m\u001b[90mTextWrap\u001b[39m\n",
            "\u001b[32m  ✓ \u001b[39mArgParse\n",
            "  2 dependencies successfully precompiled in 1 seconds (136 already precompiled)\n",
            "\u001b[32m\u001b[1m   Resolving\u001b[22m\u001b[39m package versions...\n",
            "\u001b[32m\u001b[1m   Installed\u001b[22m\u001b[39m LinearMaps ─ v3.5.1\n",
            "\u001b[32m\u001b[1m    Updating\u001b[22m\u001b[39m `~/.julia/environments/v1.7/Project.toml`\n",
            " \u001b[90m [7a12625a] \u001b[39m\u001b[92m+ LinearMaps v3.5.1\u001b[39m\n",
            "\u001b[32m\u001b[1m    Updating\u001b[22m\u001b[39m `~/.julia/environments/v1.7/Manifest.toml`\n",
            " \u001b[90m [7a12625a] \u001b[39m\u001b[92m+ LinearMaps v3.5.1\u001b[39m\n",
            "\u001b[32m\u001b[1mPrecompiling\u001b[22m\u001b[39m project...\n",
            "\u001b[32m  ✓ \u001b[39mLinearMaps\n",
            "  1 dependency successfully precompiled in 2 seconds (138 already precompiled)\n"
          ]
        }
      ],
      "source": [
        "import Pkg; Pkg.add(\"Arpack\")\n",
        "import Pkg; Pkg.add(\"ArgParse\")\n",
        "import Pkg; Pkg.add(\"LinearMaps\")\n",
        "\n",
        "using LinearAlgebra\n",
        "using Arpack\n",
        "using SparseArrays\n",
        "using LinearMaps\n",
        "#using ArgParse"
      ]
    },
    {
      "cell_type": "code",
      "execution_count": 3,
      "id": "27625538-c1a2-44bc-a9b4-99d598288822",
      "metadata": {
        "id": "27625538-c1a2-44bc-a9b4-99d598288822",
        "colab": {
          "base_uri": "https://localhost:8080/"
        },
        "outputId": "7dc6b89f-600e-4b46-b52b-f89afe85253b"
      },
      "outputs": [
        {
          "output_type": "execute_result",
          "data": {
            "text/plain": [
              "get_combination (generic function with 1 method)"
            ]
          },
          "metadata": {},
          "execution_count": 3
        }
      ],
      "source": [
        "function get_combination(NOS,NOD)\n",
        "    combination = zeros(Int64,(NOS,NOD))\n",
        "    @inbounds for j in 1:NOD\n",
        "        for i in 1:NOS\n",
        "            combination[i,j] = f_combination(i,j)\n",
        "        end\n",
        "    end\n",
        "    return combination\n",
        "end"
      ]
    },
    {
      "cell_type": "code",
      "execution_count": 4,
      "id": "67ba02e4-9b08-4a5a-b41c-f873b192c702",
      "metadata": {
        "id": "67ba02e4-9b08-4a5a-b41c-f873b192c702",
        "colab": {
          "base_uri": "https://localhost:8080/"
        },
        "outputId": "7fb7d256-3312-4960-a1ea-234f83b0fdda"
      },
      "outputs": [
        {
          "output_type": "execute_result",
          "data": {
            "text/plain": [
              "f_combination (generic function with 1 method)"
            ]
          },
          "metadata": {},
          "execution_count": 4
        }
      ],
      "source": [
        "function f_combination(n,k)\n",
        "    if n<k\n",
        "        return 0\n",
        "    end\n",
        "    nCk = 1\n",
        "    for i in 1:k\n",
        "        nCk = nCk * (n-k+i)\n",
        "        nCk = div(nCk,i)\n",
        "    end\n",
        "    return nCk\n",
        "end"
      ]
    },
    {
      "cell_type": "code",
      "execution_count": 5,
      "id": "837a9b10-83d9-45c3-b2b0-ea8f2a669208",
      "metadata": {
        "id": "837a9b10-83d9-45c3-b2b0-ea8f2a669208",
        "colab": {
          "base_uri": "https://localhost:8080/"
        },
        "outputId": "fea560c4-89ec-4a12-de9c-0353a41216d8"
      },
      "outputs": [
        {
          "output_type": "execute_result",
          "data": {
            "text/plain": [
              "insertion_sort! (generic function with 1 method)"
            ]
          },
          "metadata": {},
          "execution_count": 5
        }
      ],
      "source": [
        "function insertion_sort!(a,NOD)\n",
        "    for i in 2:NOD\n",
        "        j = i - 1\n",
        "        @inbounds temp = a[i]\n",
        "        @inbounds while a[j] > temp\n",
        "            a[j+1] = a[j]\n",
        "            j = j - 1\n",
        "            if j==0\n",
        "                break\n",
        "            end\n",
        "        end\n",
        "        @inbounds a[j+1] = temp\n",
        "    end\n",
        "    return 0\n",
        "end"
      ]
    },
    {
      "cell_type": "code",
      "execution_count": 6,
      "id": "43db410a-d867-4075-983a-3ac247bb4a66",
      "metadata": {
        "id": "43db410a-d867-4075-983a-3ac247bb4a66",
        "colab": {
          "base_uri": "https://localhost:8080/"
        },
        "outputId": "833d52b5-01a0-4eae-d9e7-a0dc65b2feb6"
      },
      "outputs": [
        {
          "output_type": "execute_result",
          "data": {
            "text/plain": [
              "inv_list (generic function with 1 method)"
            ]
          },
          "metadata": {},
          "execution_count": 6
        }
      ],
      "source": [
        "function inv_list(ni,NOD,combination)\n",
        "    @inbounds val_inv_list = ni[1]\n",
        "    @inbounds for i in 2:NOD\n",
        "        val_inv_list = val_inv_list + combination[ni[i]-1,i]\n",
        "    end\n",
        "    return val_inv_list\n",
        "end"
      ]
    },
    {
      "cell_type": "code",
      "execution_count": 7,
      "id": "9837593f-7e38-465d-a244-c421c185125d",
      "metadata": {
        "id": "9837593f-7e38-465d-a244-c421c185125d",
        "colab": {
          "base_uri": "https://localhost:8080/"
        },
        "outputId": "3e33c61f-10fd-4350-c889-fc1354dac058"
      },
      "outputs": [
        {
          "output_type": "execute_result",
          "data": {
            "text/plain": [
              "qsort_w_order! (generic function with 1 method)"
            ]
          },
          "metadata": {},
          "execution_count": 7
        }
      ],
      "source": [
        "function qsort_w_order!(a,o,first,last)\n",
        "    @inbounds x = a[div(first+last,2)]\n",
        "    i = first\n",
        "    j = last\n",
        "    while true\n",
        "        @inbounds while a[i] < x\n",
        "            i = i + 1\n",
        "        end\n",
        "        @inbounds while x < a[j]\n",
        "            j = j - 1\n",
        "        end\n",
        "        if i >= j\n",
        "            break\n",
        "        end\n",
        "        @inbounds t8 = a[i]; @inbounds a[i] = a[j]; @inbounds a[j] = t8\n",
        "        @inbounds t  = o[i]; @inbounds o[i] = o[j]; @inbounds o[j] = t\n",
        "        i = i + 1\n",
        "        j = j - 1\n",
        "    end\n",
        "    if first < i - 1\n",
        "        qsort_w_order!(a,o,first,i-1)\n",
        "    end\n",
        "    if j + 1 < last\n",
        "        qsort_w_order!(a,o,j+1,last)\n",
        "    end\n",
        "    return 0\n",
        "end"
      ]
    },
    {
      "cell_type": "code",
      "execution_count": 8,
      "id": "97d44728-19cb-4433-964d-72c019a70a14",
      "metadata": {
        "id": "97d44728-19cb-4433-964d-72c019a70a14",
        "colab": {
          "base_uri": "https://localhost:8080/"
        },
        "outputId": "ee1d295a-6639-4ade-fc2b-0d55a2077482"
      },
      "outputs": [
        {
          "output_type": "execute_result",
          "data": {
            "text/plain": [
              "list_fly (generic function with 1 method)"
            ]
          },
          "metadata": {},
          "execution_count": 8
        }
      ],
      "source": [
        "## output \"ni\" is returned\n",
        "function list_fly(t,NOD,NOS,combination)\n",
        "    ni = zeros(Int64,NOD)\n",
        "    s = t\n",
        "    j = NOS - 1\n",
        "    for i in NOD:-1:2\n",
        "        b, j0 = binary_search(s,combination[:,i],i,j)\n",
        "        j = j0 - 1\n",
        "        ni[i] = j0\n",
        "        s = s - combination[j,i]\n",
        "    end\n",
        "    ni[1] = s\n",
        "    return ni\n",
        "end"
      ]
    },
    {
      "cell_type": "code",
      "execution_count": 9,
      "id": "2d1639fe-2d68-4d56-a65c-cbd9c8a048be",
      "metadata": {
        "id": "2d1639fe-2d68-4d56-a65c-cbd9c8a048be",
        "colab": {
          "base_uri": "https://localhost:8080/"
        },
        "outputId": "6cb1ebda-0bdc-4115-a0f7-a7235d84588d"
      },
      "outputs": [
        {
          "output_type": "execute_result",
          "data": {
            "text/plain": [
              "list_fly_2! (generic function with 1 method)"
            ]
          },
          "metadata": {},
          "execution_count": 9
        }
      ],
      "source": [
        "## output \"ni\" is in arguments\n",
        "function list_fly_2!(t,NOD,NOS,combination,ni)\n",
        "    @inbounds fill!(ni,0)\n",
        "    s = t\n",
        "    j = NOS - 1\n",
        "    @inbounds for i in NOD:-1:2\n",
        "        b, j0 = binary_search(s,combination[:,i],i,j)\n",
        "        j = j0 - 1\n",
        "        ni[i] = j0\n",
        "        s = s - combination[j,i]\n",
        "    end\n",
        "    @inbounds ni[1] = s\n",
        "    return 0\n",
        "end"
      ]
    },
    {
      "cell_type": "code",
      "execution_count": 10,
      "id": "296f0df9-a11c-4b55-a4d4-31fdfe44ba71",
      "metadata": {
        "id": "296f0df9-a11c-4b55-a4d4-31fdfe44ba71",
        "colab": {
          "base_uri": "https://localhost:8080/"
        },
        "outputId": "d1a198a1-fc8f-4dc4-9d4f-4fad8bc0690f"
      },
      "outputs": [
        {
          "output_type": "execute_result",
          "data": {
            "text/plain": [
              "binary_search (generic function with 1 method)"
            ]
          },
          "metadata": {},
          "execution_count": 10
        }
      ],
      "source": [
        "function binary_search(s,list_s,ls,le)\n",
        "    bmin = ls; bmax = le\n",
        "    while true\n",
        "        b = bmin + div(bmax-bmin,2)\n",
        "        @inbounds if s < list_s[b]\n",
        "            bmax = b - 1\n",
        "        elseif list_s[b] < s\n",
        "            bmin = b + 1\n",
        "        else\n",
        "            bmin = b\n",
        "            return b, bmin\n",
        "        end\n",
        "        if bmin > bmax\n",
        "            b = -1\n",
        "            return b, bmin\n",
        "        end\n",
        "    end\n",
        "    return b, bmin\n",
        "end"
      ]
    },
    {
      "cell_type": "code",
      "execution_count": 11,
      "id": "fc526de5-ef32-4c52-9fd3-8f8906a7ff95",
      "metadata": {
        "id": "fc526de5-ef32-4c52-9fd3-8f8906a7ff95",
        "colab": {
          "base_uri": "https://localhost:8080/"
        },
        "outputId": "cf07e957-4aca-4ca9-a249-2930d64431dc"
      },
      "outputs": [
        {
          "output_type": "execute_result",
          "data": {
            "text/plain": [
              "list_to_state_no_duplication (generic function with 1 method)"
            ]
          },
          "metadata": {},
          "execution_count": 11
        }
      ],
      "source": [
        "function list_to_state_no_duplication(st_list,NOS)\n",
        "    string01 = \"\"\n",
        "    for i in 1:NOS\n",
        "        if i in st_list\n",
        "            string01 = string01 * \"1\" # down\n",
        "        else\n",
        "            string01 = string01 * \"0\" # up\n",
        "        end\n",
        "    end\n",
        "    return string01\n",
        "end"
      ]
    },
    {
      "cell_type": "code",
      "execution_count": 12,
      "id": "445f2a67-fbc1-4489-8a8b-a5a212b4b81b",
      "metadata": {
        "id": "445f2a67-fbc1-4489-8a8b-a5a212b4b81b",
        "colab": {
          "base_uri": "https://localhost:8080/"
        },
        "outputId": "cfb20330-b398-43df-a344-17e8bbf6a3ff"
      },
      "outputs": [
        {
          "output_type": "execute_result",
          "data": {
            "text/plain": [
              "list_to_state (generic function with 1 method)"
            ]
          },
          "metadata": {},
          "execution_count": 12
        }
      ],
      "source": [
        "function list_to_state(st_list,NOS)\n",
        "    list01 = zeros(Int64,NOS)\n",
        "    for i in st_list\n",
        "        list01[i] += 1\n",
        "    end\n",
        "    list01 = mod.(list01,2)\n",
        "    string01 = join(list01)\n",
        "    return string01\n",
        "end"
      ]
    },
    {
      "cell_type": "code",
      "execution_count": 13,
      "id": "c5a4a257-64ad-4eea-b996-efd20e4bf6e9",
      "metadata": {
        "id": "c5a4a257-64ad-4eea-b996-efd20e4bf6e9",
        "colab": {
          "base_uri": "https://localhost:8080/"
        },
        "outputId": "ec89a712-3e9d-4f1a-ab3a-28c86477be0b"
      },
      "outputs": [
        {
          "output_type": "execute_result",
          "data": {
            "text/plain": [
              "j_flip_ni (generic function with 1 method)"
            ]
          },
          "metadata": {},
          "execution_count": 13
        }
      ],
      "source": [
        "## output \"nd\" is returned\n",
        "function j_flip_ni(i,j,n,NOD)\n",
        "    nd = ones(Int64,NOD)\n",
        "    kr = NOD\n",
        "    for _kr in NOD:-1:1\n",
        "        if j < n[_kr]\n",
        "            kr = _kr\n",
        "            continue\n",
        "        elseif j > n[_kr]\n",
        "            kr = _kr\n",
        "            break\n",
        "        else\n",
        "            fill!(nd,0)\n",
        "            kr = _kr\n",
        "            break\n",
        "        end\n",
        "    end\n",
        "    if nd[NOD] == 1 # S+_i S-_j\n",
        "        kl = 1\n",
        "        for _kl in 1:kr\n",
        "            if i == n[_kl]\n",
        "                kl = _kl\n",
        "                break\n",
        "            end\n",
        "            kl = _kl+1\n",
        "        end\n",
        "        nd[kl:kr-1] = n[kl+1:kr]\n",
        "        nd[kr] = j\n",
        "    else # S-_i S+_j\n",
        "        kl = 1\n",
        "        for _kl in 1:kr\n",
        "            if i < n[_kl]\n",
        "                kl = _kl\n",
        "                break\n",
        "            end\n",
        "            kl = _kl+1\n",
        "        end\n",
        "        nd[kl] = i\n",
        "        nd[kl+1:kr] = n[kl:kr-1]\n",
        "    end\n",
        "    nd[1:kl-1] = n[1:kl-1]\n",
        "    nd[kr+1:NOD] = n[kr+1:NOD]\n",
        "    return nd\n",
        "end"
      ]
    },
    {
      "cell_type": "code",
      "execution_count": 14,
      "id": "5a12e2a9-0a1e-45e4-b9e8-3aff3f9ea120",
      "metadata": {
        "id": "5a12e2a9-0a1e-45e4-b9e8-3aff3f9ea120",
        "colab": {
          "base_uri": "https://localhost:8080/"
        },
        "outputId": "7bf4b648-317b-4ac9-e13c-16bf68cd475d"
      },
      "outputs": [
        {
          "output_type": "execute_result",
          "data": {
            "text/plain": [
              "j_flip_ni_2! (generic function with 1 method)"
            ]
          },
          "metadata": {},
          "execution_count": 14
        }
      ],
      "source": [
        "## output \"nd\" is in arguments\n",
        "function j_flip_ni_2!(i,j,n,NOD,nd)\n",
        "    @inbounds fill!(nd,1)\n",
        "    kr = NOD\n",
        "    @inbounds for _kr in NOD:-1:1\n",
        "        @inbounds if j < n[_kr]\n",
        "            kr = _kr\n",
        "            continue\n",
        "        elseif j > n[_kr]\n",
        "            kr = _kr\n",
        "            break\n",
        "        else\n",
        "            @inbounds fill!(nd,0)\n",
        "            kr = _kr\n",
        "            break\n",
        "        end\n",
        "    end\n",
        "    @inbounds if nd[NOD] == 1 # S+_i S-_j\n",
        "        kl = 1\n",
        "        for _kl in 1:kr\n",
        "            @inbounds if i == n[_kl]\n",
        "                kl = _kl\n",
        "                break\n",
        "            end\n",
        "            kl = _kl+1\n",
        "        end\n",
        "        @inbounds nd[kl:kr-1] = n[kl+1:kr]\n",
        "        @inbounds nd[kr] = j\n",
        "    else # S-_i S+_j\n",
        "        kl = 1\n",
        "        for _kl in 1:kr\n",
        "            @inbounds if i < n[_kl]\n",
        "                kl = _kl\n",
        "                break\n",
        "            end\n",
        "            kl = _kl+1\n",
        "        end\n",
        "        @inbounds nd[kl] = i\n",
        "        @inbounds nd[kl+1:kr] = n[kl:kr-1]\n",
        "    end\n",
        "    @inbounds nd[1:kl-1] = n[1:kl-1]\n",
        "    @inbounds nd[kr+1:NOD] = n[kr+1:NOD]\n",
        "    return 0\n",
        "end"
      ]
    },
    {
      "cell_type": "code",
      "execution_count": 15,
      "id": "4c5116c9-8de9-4dc6-ac63-e574257fca7c",
      "metadata": {
        "id": "4c5116c9-8de9-4dc6-ac63-e574257fca7c",
        "colab": {
          "base_uri": "https://localhost:8080/"
        },
        "outputId": "95d0c796-12b7-4ec4-8cff-8e94a94a47aa"
      },
      "outputs": [
        {
          "output_type": "execute_result",
          "data": {
            "text/plain": [
              "make_full_hamiltonian (generic function with 1 method)"
            ]
          },
          "metadata": {},
          "execution_count": 15
        }
      ],
      "source": [
        "## output \"Ham\" is returned\n",
        "function make_full_hamiltonian(lv,combination,NOD,NOxxz,p_xxz,sJint,NOS)\n",
        "    Ham = zeros(Float64,(lv,lv))\n",
        "    for i in 1:lv\n",
        "        st_list = list_fly(i,NOD,NOS,combination)\n",
        "        for j in 1:NOxxz\n",
        "            f1 = p_xxz[1,j] in st_list\n",
        "            f2 = p_xxz[2,j] in st_list\n",
        "            if xor(f1,f2)\n",
        "                Ham[i,i] = Ham[i,i] - sJint[j,2]\n",
        "                ni = j_flip_ni(p_xxz[1,j],p_xxz[2,j],st_list,NOD)\n",
        "                id = inv_list(ni,NOD,combination)\n",
        "                Ham[i,id] = Ham[i,id] + sJint[j,1]\n",
        "            else\n",
        "                Ham[i,i] = Ham[i,i] + sJint[j,2]\n",
        "            end\n",
        "        end\n",
        "    end\n",
        "    return Ham\n",
        "end"
      ]
    },
    {
      "cell_type": "code",
      "execution_count": 16,
      "id": "22123812-4b61-48fe-b7d5-d0ebc20e0d7f",
      "metadata": {
        "id": "22123812-4b61-48fe-b7d5-d0ebc20e0d7f",
        "colab": {
          "base_uri": "https://localhost:8080/"
        },
        "outputId": "304b7cf6-7266-4892-8f64-187939c725e8"
      },
      "outputs": [
        {
          "output_type": "execute_result",
          "data": {
            "text/plain": [
              "make_full_hamiltonian_2! (generic function with 1 method)"
            ]
          },
          "metadata": {},
          "execution_count": 16
        }
      ],
      "source": [
        "## output \"Ham\" is in arguments\n",
        "function make_full_hamiltonian_2!(lv,Ham,combination,NOD,NOxxz,p_xxz,sJint,NOS)\n",
        "    st_list = zeros(Int64,NOD)\n",
        "    ni = zeros(Int64,NOD)\n",
        "    @inbounds for i in 1:lv\n",
        "        list_fly_2!(i,NOD,NOS,combination,st_list)\n",
        "        @inbounds for j in 1:NOxxz\n",
        "            f1 = p_xxz[1,j] in st_list\n",
        "            f2 = p_xxz[2,j] in st_list\n",
        "            @inbounds if xor(f1,f2)\n",
        "                Ham[i,i] = Ham[i,i] - sJint[j,2]\n",
        "                j_flip_ni_2!(p_xxz[1,j],p_xxz[2,j],st_list,NOD,ni)\n",
        "                id = inv_list(ni,NOD,combination)\n",
        "                Ham[i,id] = Ham[i,id] + sJint[j,1]\n",
        "            else\n",
        "                Ham[i,i] = Ham[i,i] + sJint[j,2]\n",
        "            end\n",
        "        end\n",
        "    end\n",
        "    return Ham\n",
        "end"
      ]
    },
    {
      "cell_type": "code",
      "execution_count": 17,
      "id": "bdc27f5d-2c57-48a2-92cb-2d0a5b1ef0ef",
      "metadata": {
        "id": "bdc27f5d-2c57-48a2-92cb-2d0a5b1ef0ef",
        "colab": {
          "base_uri": "https://localhost:8080/"
        },
        "outputId": "c77554bb-826f-4111-e6a9-7f481ebb0d83"
      },
      "outputs": [
        {
          "output_type": "execute_result",
          "data": {
            "text/plain": [
              "make_parameters_1d (generic function with 1 method)"
            ]
          },
          "metadata": {},
          "execution_count": 17
        }
      ],
      "source": [
        "function make_parameters_1d(NOS,NOxxz)\n",
        "    p_xxz = zeros(Int64,(2,NOxxz))\n",
        "    Jint = zeros(Float64,(NOxxz,2)) # Jint[NOxxz,1] --> Jint_x, Jint[NOxxz,2] --> Jint_z\n",
        "    sJint = zeros(Float64,(NOxxz,2)) # sJint[NOxxz,1] --> sJint_x, sJint[NOxxz,2] --> sJint_z\n",
        "    @inbounds for i in 1:NOS\n",
        "        p_xxz[1,i] = mod(i-1,NOS)+1\n",
        "        p_xxz[2,i] = mod(i,NOS)+1\n",
        "        @inbounds if p_xxz[1,i] > p_xxz[2,i] # assume i<j for pair (i,j)\n",
        "            tmp = p_xxz[1,i]\n",
        "            p_xxz[1,i] = p_xxz[2,i]\n",
        "            p_xxz[2,i] = tmp\n",
        "        end\n",
        "    end\n",
        "    @inbounds fill!(Jint,1.0)\n",
        "    @inbounds sJint[:,1] = 0.5 .* Jint[:,1]\n",
        "    @inbounds sJint[:,2] = 0.25 .* Jint[:,2]\n",
        "    return p_xxz, Jint, sJint\n",
        "end"
      ]
    },
    {
      "cell_type": "code",
      "execution_count": 18,
      "id": "1bc2c9f1-7fca-4140-ad14-d0b15fb4e25d",
      "metadata": {
        "id": "1bc2c9f1-7fca-4140-ad14-d0b15fb4e25d",
        "colab": {
          "base_uri": "https://localhost:8080/"
        },
        "outputId": "ed94dc46-a485-4e1f-b8a8-1066cf9b6d8b"
      },
      "outputs": [
        {
          "output_type": "execute_result",
          "data": {
            "text/plain": [
              "ham_to_vec_wave_vector! (generic function with 1 method)"
            ]
          },
          "metadata": {},
          "execution_count": 18
        }
      ],
      "source": [
        "## memory allocation within get_vec\n",
        "function ham_to_vec_wave_vector!(lv,combination,NOD,NOxxz,p_xxz,sJint,NOS)\n",
        "    function get_vec!(v0::AbstractVector,v1::AbstractVector) ## v0: new output, v1: old input\n",
        "        length(v0) == lv || throw(DimensionMismatch())\n",
        "        length(v1) == lv || throw(DimensionMismatch())\n",
        "        for i = 1:lv\n",
        "            v0[i] = 0.0 + 0.0im\n",
        "            st_list = list_fly(i,NOD,NOS,combination)\n",
        "            for j in 1:NOxxz\n",
        "                f1 = p_xxz[1,j] in st_list\n",
        "                f2 = p_xxz[2,j] in st_list\n",
        "                if xor(f1,f2)\n",
        "                    v0[i] = v0[i] - sJint[j,2] * v1[i]\n",
        "                    ni = j_flip_ni(p_xxz[1,j],p_xxz[2,j],st_list,NOD)\n",
        "                    id = inv_list(ni,NOD,combination)\n",
        "                    v0[i] = v0[i] + sJint[j,1] * v1[id]\n",
        "                else\n",
        "                    v0[i] = v0[i] + sJint[j,2] * v1[i]\n",
        "                end\n",
        "            end\n",
        "        end\n",
        "        return v0\n",
        "    end\n",
        "    return (v0,v1) -> get_vec!(v0,v1)\n",
        "end"
      ]
    },
    {
      "cell_type": "code",
      "execution_count": 19,
      "id": "84e86ed0-8d7f-4d00-8fc5-1ac097c37fb4",
      "metadata": {
        "id": "84e86ed0-8d7f-4d00-8fc5-1ac097c37fb4",
        "colab": {
          "base_uri": "https://localhost:8080/"
        },
        "outputId": "a6fc0673-f99d-49af-bdd2-f61433c30ff2"
      },
      "outputs": [
        {
          "output_type": "execute_result",
          "data": {
            "text/plain": [
              "ham_to_vec_wave_vector_2! (generic function with 1 method)"
            ]
          },
          "metadata": {},
          "execution_count": 19
        }
      ],
      "source": [
        "## memory allocation outside get_vec\n",
        "function ham_to_vec_wave_vector_2!(lv,combination,NOD,NOxxz,p_xxz,sJint,NOS)\n",
        "    st_list = zeros(Int64,NOD)\n",
        "    ni = zeros(Int64,NOD)\n",
        "    function get_vec_2!(v0::AbstractVector,v1::AbstractVector) ## v0: new output, v1: old input\n",
        "        length(v0) == lv || throw(DimensionMismatch())\n",
        "        length(v1) == lv || throw(DimensionMismatch())\n",
        "        @inbounds for i = 1:lv\n",
        "            v0[i] = 0.0 + 0.0im\n",
        "            list_fly_2!(i,NOD,NOS,combination,st_list)\n",
        "            @inbounds for j in 1:NOxxz\n",
        "                f1 = p_xxz[1,j] in st_list\n",
        "                f2 = p_xxz[2,j] in st_list\n",
        "                @inbounds if xor(f1,f2)\n",
        "                    v0[i] = v0[i] - sJint[j,2] * v1[i]\n",
        "                    j_flip_ni_2!(p_xxz[1,j],p_xxz[2,j],st_list,NOD,ni)\n",
        "                    id = inv_list(ni,NOD,combination)\n",
        "                    v0[i] = v0[i] + sJint[j,1] * v1[id]\n",
        "                else\n",
        "                    v0[i] = v0[i] + sJint[j,2] * v1[i]\n",
        "                end\n",
        "            end\n",
        "        end\n",
        "        return v0\n",
        "    end\n",
        "    return (v0,v1) -> get_vec_2!(v0,v1)\n",
        "end"
      ]
    },
    {
      "cell_type": "code",
      "execution_count": 20,
      "id": "4bce2b43-ab52-46cc-b4e4-1eea8820e209",
      "metadata": {
        "id": "4bce2b43-ab52-46cc-b4e4-1eea8820e209",
        "colab": {
          "base_uri": "https://localhost:8080/"
        },
        "outputId": "0e211984-8e3a-461b-c643-61ba7df99d36"
      },
      "outputs": [
        {
          "output_type": "execute_result",
          "data": {
            "text/plain": [
              "calculate_1d (generic function with 1 method)"
            ]
          },
          "metadata": {},
          "execution_count": 20
        }
      ],
      "source": [
        "function calculate_1d(NOS,NOD)\n",
        "    #NOS = 4 # number of sites\n",
        "    #NOD = 2 # number of down spins\n",
        "    NOxxz = NOS # number of XXZ interaction\n",
        "    combination = get_combination(NOS,NOD)\n",
        "    THS = combination[NOS,NOD] # total Hilbert space\n",
        "    println(\"# NOS,NOD\")\n",
        "    println(NOS,\" \",NOD)\n",
        "    #display(combination)\n",
        "    println(\"# total Hilbert space\")\n",
        "    println(THS)\n",
        "\n",
        "    p_xxz, Jint, sJint = make_parameters_1d(NOS,NOxxz)\n",
        "    #println(p_xxz)\n",
        "    #println(Jint)\n",
        "    #println(sJint)\n",
        "    #println()\n",
        "\n",
        "    get_vec_LM_2! = ham_to_vec_wave_vector_2!(THS,combination,NOD,NOxxz,p_xxz,sJint,NOS)\n",
        "    Ham = LinearMap(get_vec_LM_2!,THS;ismutating=true,issymmetric=true)\n",
        "    #println(Ham)\n",
        "    #println()\n",
        "    ene,vec = eigs(Ham,nev=5,which=:SR)\n",
        "    println(\"# energies\")\n",
        "    println(ene)\n",
        "    println()\n",
        "    #println(\"# vectors\")\n",
        "    #for i in 1:length(ene)\n",
        "    #    println(i,vec[:,i])\n",
        "    #end\n",
        "    #println()\n",
        "end"
      ]
    },
    {
      "cell_type": "code",
      "execution_count": 21,
      "id": "8285830a-ac19-4e04-9bb3-771f7a8c628d",
      "metadata": {
        "id": "8285830a-ac19-4e04-9bb3-771f7a8c628d",
        "colab": {
          "base_uri": "https://localhost:8080/"
        },
        "outputId": "1e9b2015-bb7a-462f-be78-f259487c8f2c"
      },
      "outputs": [
        {
          "output_type": "stream",
          "name": "stdout",
          "text": [
            "# NOS,NOD\n",
            "4 1\n",
            "# total Hilbert space\n",
            "4\n",
            "# energies\n",
            "[-1.0, -8.921197447996612e-18, 2.5031033493453777e-17]\n",
            "\n",
            "# NOS,NOD\n",
            "4 2\n",
            "# total Hilbert space\n",
            "6\n",
            "# energies\n",
            "[-2.0, -1.0000000000000002, -3.585624251920068e-17, 4.469288692850764e-18, 4.249538007322152e-17]\n",
            "\n",
            "# NOS,NOD\n",
            "4 3\n",
            "# total Hilbert space\n",
            "4\n",
            "# energies\n",
            "[-1.0, 1.1646420306744707e-17, 1.1472988543054442e-16]\n",
            "\n",
            "# NOS,NOD\n",
            "8 1\n",
            "# total Hilbert space\n",
            "8\n",
            "# energies\n",
            "[8.853730539606862e-17, 0.2928932188134527, 0.29289321881345315, 0.9999999999999998, 0.9999999999999999]\n",
            "\n",
            "# NOS,NOD\n",
            "8 2\n",
            "# total Hilbert space\n",
            "28\n",
            "# energies\n",
            "[-1.8019377358048378, -1.2670350983613663, -1.2670350983613659, -1.1441228056353696, -1.1441228056353687]\n",
            "\n",
            "# NOS,NOD\n",
            "8 3\n",
            "# total Hilbert space\n",
            "56\n",
            "# energies\n",
            "[-3.1284190638445804, -2.4587385088948355, -2.458738508894832, -2.1451483739207156, -2.1451483739207107]\n",
            "\n",
            "# NOS,NOD\n",
            "16 1\n",
            "# total Hilbert space\n",
            "16\n",
            "# energies\n",
            "[2.0, 2.076120467488713, 2.076120467488714, 2.292893218813452, 2.2928932188134534]\n",
            "\n",
            "# NOS,NOD\n",
            "16 2\n",
            "# total Hilbert space\n",
            "120\n",
            "# energies\n",
            "[0.043704798532389136, 0.1928327648250973, 0.19283276482509829, 0.20823568488932792, 0.208235684889328]\n",
            "\n",
            "# NOS,NOD\n",
            "16 3\n",
            "# total Hilbert space\n",
            "560\n",
            "# energies\n",
            "[-1.8150016237256672, -1.5993382434434409, -1.5993382434434393, -1.5576365975277635, -1.5576365975277564]\n",
            "\n",
            "# NOS,NOD\n",
            "32 1\n",
            "# total Hilbert space\n",
            "32\n",
            "# energies\n",
            "[6.000000000000003, 6.019214719596768, 6.01921471959677, 6.076120467488712, 6.076120467488713]\n",
            "\n",
            "# NOS,NOD\n",
            "32 2\n",
            "# total Hilbert space\n",
            "496\n",
            "# energies\n",
            "[4.010261353216193, 4.0484999249374605, 4.048499924937489, 4.0503798709760055, 4.050379870976024]\n",
            "\n",
            "# NOS,NOD\n",
            "32 3\n",
            "# total Hilbert space\n",
            "4960\n",
            "# energies\n",
            "[2.0422923046880403, 2.099163276905253, 2.0991632769052706, 2.1042573500222095, 2.104257350022216]\n",
            "\n"
          ]
        },
        {
          "output_type": "stream",
          "name": "stderr",
          "text": [
            "┌ Warning: Adjusting nev from 5 to 3\n",
            "└ @ Arpack /root/.julia/packages/Arpack/pLziT/src/Arpack.jl:92\n",
            "┌ Warning: Adjusting nev from 5 to 3\n",
            "└ @ Arpack /root/.julia/packages/Arpack/pLziT/src/Arpack.jl:92\n"
          ]
        }
      ],
      "source": [
        "#for NOS in [4,8,16,32,64,128] # number of sites\n",
        "#for NOS in [4,8,16,32,64] # number of sites\n",
        "for NOS in [4,8,16,32] # number of sites\n",
        "    for NOD in [1,2,3] # number of down spins\n",
        "        calculate_1d(NOS,NOD)\n",
        "    end\n",
        "end"
      ]
    },
    {
      "cell_type": "code",
      "execution_count": 22,
      "id": "d1153f57-339e-4461-8175-c75305218d42",
      "metadata": {
        "id": "d1153f57-339e-4461-8175-c75305218d42"
      },
      "outputs": [],
      "source": [
        ""
      ]
    }
  ],
  "metadata": {
    "kernelspec": {
      "display_name": "Julia 1.7.1",
      "language": "julia",
      "name": "julia"
    },
    "language_info": {
      "file_extension": ".jl",
      "mimetype": "application/julia",
      "name": "julia",
      "version": "1.7.1"
    },
    "toc-showcode": false,
    "colab": {
      "name": "colab_julia_1d_heisenberg_20211206.ipynb",
      "provenance": [],
      "collapsed_sections": []
    }
  },
  "nbformat": 4,
  "nbformat_minor": 5
}