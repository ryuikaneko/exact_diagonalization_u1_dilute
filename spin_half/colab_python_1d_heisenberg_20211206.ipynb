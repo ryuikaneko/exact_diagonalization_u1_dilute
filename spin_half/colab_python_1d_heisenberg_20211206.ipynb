{
  "nbformat": 4,
  "nbformat_minor": 5,
  "metadata": {
    "kernelspec": {
      "display_name": "Python 3 (ipykernel)",
      "language": "python",
      "name": "python3"
    },
    "language_info": {
      "codemirror_mode": {
        "name": "ipython",
        "version": 3
      },
      "file_extension": ".py",
      "mimetype": "text/x-python",
      "name": "python",
      "nbconvert_exporter": "python",
      "pygments_lexer": "ipython3",
      "version": "3.8.12"
    },
    "toc-autonumbering": false,
    "colab": {
      "name": "colab_python_1d_heisenberg_20211206.ipynb",
      "provenance": [],
      "collapsed_sections": []
    }
  },
  "cells": [
    {
      "cell_type": "code",
      "metadata": {
        "colab": {
          "base_uri": "https://localhost:8080/"
        },
        "id": "EBU9YnTUpvEP",
        "outputId": "17fb0c21-95c2-423e-e5c5-3a5518aa74f1"
      },
      "source": [
        "!pip uninstall numba -y\n",
        "!pip install -U numba"
      ],
      "id": "EBU9YnTUpvEP",
      "execution_count": 1,
      "outputs": [
        {
          "output_type": "stream",
          "name": "stdout",
          "text": [
            "Found existing installation: numba 0.54.1\n",
            "Uninstalling numba-0.54.1:\n",
            "  Successfully uninstalled numba-0.54.1\n",
            "Collecting numba\n",
            "  Using cached numba-0.54.1-cp37-cp37m-manylinux2014_x86_64.manylinux_2_17_x86_64.whl (3.3 MB)\n",
            "Requirement already satisfied: llvmlite<0.38,>=0.37.0rc1 in /usr/local/lib/python3.7/dist-packages (from numba) (0.37.0)\n",
            "Requirement already satisfied: numpy<1.21,>=1.17 in /usr/local/lib/python3.7/dist-packages (from numba) (1.19.5)\n",
            "Requirement already satisfied: setuptools in /usr/local/lib/python3.7/dist-packages (from numba) (57.4.0)\n",
            "Installing collected packages: numba\n",
            "Successfully installed numba-0.54.1\n"
          ]
        }
      ]
    },
    {
      "cell_type": "code",
      "metadata": {
        "colab": {
          "base_uri": "https://localhost:8080/"
        },
        "id": "7f9068d2-c9c3-4089-91c0-02d2fd1ba762",
        "outputId": "b0801fe0-b390-4d98-b4ec-a3187d5614d3"
      },
      "source": [
        "%matplotlib inline\n",
        "\n",
        "import numpy as np\n",
        "import scipy.linalg\n",
        "import scipy.sparse.linalg\n",
        "import matplotlib.pyplot as plt\n",
        "from numba import jit\n",
        "\n",
        "import numba\n",
        "print(numba.__version__)"
      ],
      "id": "7f9068d2-c9c3-4089-91c0-02d2fd1ba762",
      "execution_count": 2,
      "outputs": [
        {
          "output_type": "stream",
          "name": "stdout",
          "text": [
            "0.54.1\n"
          ]
        }
      ]
    },
    {
      "cell_type": "code",
      "metadata": {
        "id": "093c5fcf-c72a-48a6-aebc-c3cb6b0e3f2e"
      },
      "source": [
        "@jit(nopython=True)\n",
        "def get_combination(NOS,NOD):\n",
        "    combination = np.zeros((NOS,NOD),dtype=np.int64)\n",
        "    for i in range(NOS):\n",
        "        for j in range(NOD):\n",
        "            combination[i,j] = f_combination(i+1,j+1)\n",
        "    return combination"
      ],
      "id": "093c5fcf-c72a-48a6-aebc-c3cb6b0e3f2e",
      "execution_count": 3,
      "outputs": []
    },
    {
      "cell_type": "code",
      "metadata": {
        "id": "1fb7bf69-a1b6-40e7-a6a8-f3f89b260aa4"
      },
      "source": [
        "@jit(nopython=True)\n",
        "def f_combination(n,k):\n",
        "    if n<k:\n",
        "        return 0\n",
        "    nCk = 1\n",
        "    for i in range(1,k+1):\n",
        "        nCk = nCk * (n-k+i)\n",
        "        nCk = nCk//i\n",
        "    return nCk"
      ],
      "id": "1fb7bf69-a1b6-40e7-a6a8-f3f89b260aa4",
      "execution_count": 4,
      "outputs": []
    },
    {
      "cell_type": "code",
      "metadata": {
        "id": "62bf4a02-24d4-4159-987c-7af1f50fe048"
      },
      "source": [
        "@jit(nopython=True)\n",
        "def insertion_sort(a,NOD):\n",
        "    for i in range(2,NOD+1):\n",
        "        j = i - 1\n",
        "        temp = a[i-1]\n",
        "        while a[j-1] > temp:\n",
        "            a[j] = a[j-1]\n",
        "            j = j - 1\n",
        "            if j==0:\n",
        "                break\n",
        "        a[j] = temp\n",
        "    return 0"
      ],
      "id": "62bf4a02-24d4-4159-987c-7af1f50fe048",
      "execution_count": 5,
      "outputs": []
    },
    {
      "cell_type": "code",
      "metadata": {
        "id": "f1a58817-17f1-4cbf-b7ef-94f2015b1bb4"
      },
      "source": [
        "@jit(nopython=True)\n",
        "def inv_list(ni,NOD,combination):\n",
        "    val_inv_list = ni[0]\n",
        "    for i in range(2,NOD+1):\n",
        "        val_inv_list = val_inv_list + combination[ni[i-1]-2,i-1]\n",
        "    return val_inv_list"
      ],
      "id": "f1a58817-17f1-4cbf-b7ef-94f2015b1bb4",
      "execution_count": 6,
      "outputs": []
    },
    {
      "cell_type": "code",
      "metadata": {
        "id": "c6f4e099-bfdd-48fb-b5f4-198dc6dbd543"
      },
      "source": [
        "@jit(nopython=True)\n",
        "def qsort_w_order(a,o,first,last):\n",
        "    x = a[(first+last)//2-1]\n",
        "    i = first\n",
        "    j = last\n",
        "    while True:\n",
        "        while a[i-1] < x:\n",
        "            i = i + 1\n",
        "        while x < a[j-1]:\n",
        "            j = j - 1\n",
        "        if i >= j:\n",
        "            break\n",
        "        t8 = a[i-1];  a[i-1] = a[j-1];  a[j-1] = t8\n",
        "        t  = o[i-1];  o[i-1] = o[j-1];  o[j-1] = t\n",
        "        i = i + 1\n",
        "        j = j - 1\n",
        "    if first < i - 1:\n",
        "        qsort_w_order(a,o,first,i-1)\n",
        "    if j + 1 < last:\n",
        "        qsort_w_order(a,o,j+1,last)\n",
        "    return 0"
      ],
      "id": "c6f4e099-bfdd-48fb-b5f4-198dc6dbd543",
      "execution_count": 7,
      "outputs": []
    },
    {
      "cell_type": "code",
      "metadata": {
        "id": "37acf937-f5a5-457a-9879-cc1fae35f641"
      },
      "source": [
        "## output \"ni\" is returned\n",
        "@jit(nopython=True)\n",
        "def list_fly(t,NOD,NOS,combination):\n",
        "    ni = np.zeros(NOD,dtype=np.int64)\n",
        "    s = t\n",
        "    j = NOS - 1\n",
        "    for i in range(NOD,1,-1):\n",
        "        b, j0 = binary_search(s,combination[:,i-1],i,j)\n",
        "        j = j0 - 1\n",
        "        ni[i-1] = j0\n",
        "        s = s - combination[j-1,i-1]\n",
        "    ni[0] = s\n",
        "    return ni"
      ],
      "id": "37acf937-f5a5-457a-9879-cc1fae35f641",
      "execution_count": 8,
      "outputs": []
    },
    {
      "cell_type": "code",
      "metadata": {
        "id": "36c2377a-94b1-47f3-bc15-367dfdfd961e"
      },
      "source": [
        "## output \"ni\" is in arguments\n",
        "@jit(nopython=True)\n",
        "def list_fly_2(t,NOD,NOS,combination,ni):\n",
        "    ni[:] = 0\n",
        "    s = t\n",
        "    j = NOS - 1\n",
        "    for i in range(NOD,1,-1):\n",
        "        b, j0 = binary_search(s,combination[:,i-1],i,j)\n",
        "        j = j0 - 1\n",
        "        ni[i-1] = j0\n",
        "        s = s - combination[j-1,i-1]\n",
        "    ni[0] = s\n",
        "    return 0"
      ],
      "id": "36c2377a-94b1-47f3-bc15-367dfdfd961e",
      "execution_count": 9,
      "outputs": []
    },
    {
      "cell_type": "code",
      "metadata": {
        "id": "a4da0ef2-b9d6-42ec-94d3-d025ff0fa545"
      },
      "source": [
        "@jit(nopython=True)\n",
        "def binary_search(s,list_s,ls,le):\n",
        "    bmin = ls; bmax = le\n",
        "    while True:\n",
        "        b = bmin + (bmax-bmin)//2\n",
        "        if s < list_s[b-1]:\n",
        "            bmax = b - 1\n",
        "        elif list_s[b-1] < s:\n",
        "            bmin = b + 1\n",
        "        else:\n",
        "            bmin = b\n",
        "            return b, bmin\n",
        "        if bmin > bmax:\n",
        "            b = -1\n",
        "            return b, bmin\n",
        "    return b, bmin"
      ],
      "id": "a4da0ef2-b9d6-42ec-94d3-d025ff0fa545",
      "execution_count": 10,
      "outputs": []
    },
    {
      "cell_type": "code",
      "metadata": {
        "id": "3ae62e7d-af95-4f6d-973e-25a0cb0c41d3"
      },
      "source": [
        "@jit(nopython=True)\n",
        "def list_to_state_no_duplication(st_list,NOS):\n",
        "    string01 = \"\"\n",
        "    for i in range(1,NOS+1):\n",
        "        if i in st_list:\n",
        "            string01 = string01 + \"1\" # down\n",
        "        else:\n",
        "            string01 = string01 + \"0\" # up\n",
        "    return string01"
      ],
      "id": "3ae62e7d-af95-4f6d-973e-25a0cb0c41d3",
      "execution_count": 11,
      "outputs": []
    },
    {
      "cell_type": "code",
      "metadata": {
        "id": "c9e04340-55df-46a1-9702-34fab10144e2"
      },
      "source": [
        "#@jit(nopython=True)\n",
        "def list_to_state(st_list,NOS):\n",
        "    list01 = np.zeros(NOS,dtype=np.int64)\n",
        "    for i in st_list:\n",
        "        list01[i-1] += 1\n",
        "    list01 = list01%2\n",
        "    string01 = np.array2string(list01,separator=\"\")[1:NOS+1]\n",
        "    return string01"
      ],
      "id": "c9e04340-55df-46a1-9702-34fab10144e2",
      "execution_count": 12,
      "outputs": []
    },
    {
      "cell_type": "code",
      "metadata": {
        "id": "6df9cb9a-e941-4307-8b15-79d0080dfd3b"
      },
      "source": [
        "## output \"nd\" is returned\n",
        "@jit(nopython=True)\n",
        "def j_flip_ni(i,j,n,NOD):\n",
        "    nd = np.ones(NOD,dtype=np.int64)\n",
        "    kr = NOD\n",
        "    for _kr in range(NOD,0,-1):\n",
        "        if j < n[_kr-1]:\n",
        "            kr = _kr\n",
        "            continue\n",
        "        elif j > n[_kr-1]:\n",
        "            kr = _kr\n",
        "            break\n",
        "        else:\n",
        "            nd[:] = 0\n",
        "            kr = _kr\n",
        "            break\n",
        "    if nd[NOD-1] == 1: # S+_i S-_j\n",
        "        kl = 1\n",
        "        for _kl in range(1,kr+1):\n",
        "            if i == n[_kl-1]:\n",
        "                kl = _kl\n",
        "                break\n",
        "            kl = _kl+1\n",
        "        nd[kl-1:kr-1] = n[kl:kr]\n",
        "        nd[kr-1] = j\n",
        "    else: # S-_i S+_j\n",
        "        kl = 1\n",
        "        for _kl in range(1,kr+1):\n",
        "            if i < n[_kl-1]:\n",
        "                kl = _kl\n",
        "                break\n",
        "            kl = _kl+1\n",
        "        nd[kl-1] = i\n",
        "        nd[kl:kr] = n[kl-1:kr-1]\n",
        "    nd[0:kl-1] = n[0:kl-1]\n",
        "    nd[kr:NOD] = n[kr:NOD]\n",
        "    return nd"
      ],
      "id": "6df9cb9a-e941-4307-8b15-79d0080dfd3b",
      "execution_count": 13,
      "outputs": []
    },
    {
      "cell_type": "code",
      "metadata": {
        "id": "8191ea71-ed62-408b-9840-46efe145a5ca"
      },
      "source": [
        "## output \"nd\" is in arguments\n",
        "@jit(nopython=True)\n",
        "def j_flip_ni_2(i,j,n,NOD,nd):\n",
        "    nd[:] = 1\n",
        "    kr = NOD\n",
        "    for _kr in range(NOD,0,-1):\n",
        "        if j < n[_kr-1]:\n",
        "            kr = _kr\n",
        "            continue\n",
        "        elif j > n[_kr-1]:\n",
        "            kr = _kr\n",
        "            break\n",
        "        else:\n",
        "            nd[:] = 0\n",
        "            kr = _kr\n",
        "            break\n",
        "    if nd[NOD-1] == 1: # S+_i S-_j\n",
        "        kl = 1\n",
        "        for _kl in range(1,kr+1):\n",
        "            if i == n[_kl-1]:\n",
        "                kl = _kl\n",
        "                break\n",
        "            kl = _kl+1\n",
        "        nd[kl-1:kr-1] = n[kl:kr]\n",
        "        nd[kr-1] = j\n",
        "    else: # S-_i S+_j\n",
        "        kl = 1\n",
        "        for _kl in range(1,kr+1):\n",
        "            if i < n[_kl-1]:\n",
        "                kl = _kl\n",
        "                break\n",
        "            kl = _kl+1\n",
        "        nd[kl-1] = i\n",
        "        nd[kl:kr] = n[kl-1:kr-1]\n",
        "    nd[0:kl-1] = n[0:kl-1]\n",
        "    nd[kr:NOD] = n[kr:NOD]\n",
        "    return 0"
      ],
      "id": "8191ea71-ed62-408b-9840-46efe145a5ca",
      "execution_count": 14,
      "outputs": []
    },
    {
      "cell_type": "code",
      "metadata": {
        "id": "ce5a590b-6f7b-4f86-8fb5-ecb2ee315478"
      },
      "source": [
        "## output \"Ham\" is returned\n",
        "@jit(nopython=True)\n",
        "def make_full_hamiltonian(lv,combination,NOD,NOxxz,p_xxz,sJint,NOS):\n",
        "    Ham = np.zeros((lv,lv),dtype=np.float64)\n",
        "    for i in range(1,lv+1):\n",
        "        st_list = list_fly(i,NOD,NOS,combination)\n",
        "        for j in range(1,NOxxz+1):\n",
        "            f1 = p_xxz[0,j-1] in st_list\n",
        "            f2 = p_xxz[1,j-1] in st_list\n",
        "            if f1^f2:\n",
        "                Ham[i-1,i-1] = Ham[i-1,i-1] - sJint[j-1,1]\n",
        "                ni = j_flip_ni(p_xxz[0,j-1],p_xxz[1,j-1],st_list,NOD)\n",
        "                id = inv_list(ni,NOD,combination)\n",
        "                Ham[i-1,id-1] = Ham[i-1,id-1] + sJint[j-1,0]\n",
        "            else:\n",
        "                Ham[i-1,i-1] = Ham[i-1,i-1] + sJint[j-1,1]\n",
        "    return Ham"
      ],
      "id": "ce5a590b-6f7b-4f86-8fb5-ecb2ee315478",
      "execution_count": 15,
      "outputs": []
    },
    {
      "cell_type": "code",
      "metadata": {
        "id": "37f89a52-e841-4c5e-8f7b-663a39975f41"
      },
      "source": [
        "## output \"Ham\" is in arguments\n",
        "@jit(nopython=True)\n",
        "def make_full_hamiltonian_2(lv,Ham,combination,NOD,NOxxz,p_xxz,sJint,NOS):\n",
        "    st_list = np.zeros(NOD,dtype=np.int64)\n",
        "    ni = np.zeros(NOD,dtype=np.int64)\n",
        "    for i in range(1,lv+1):\n",
        "        list_fly_2(i,NOD,NOS,combination,st_list)\n",
        "        for j in range(1,NOxxz+1):\n",
        "            f1 = p_xxz[0,j-1] in st_list\n",
        "            f2 = p_xxz[1,j-1] in st_list\n",
        "            if f1^f2:\n",
        "                Ham[i-1,i-1] = Ham[i-1,i-1] - sJint[j-1,1]\n",
        "                j_flip_ni_2(p_xxz[0,j-1],p_xxz[1,j-1],st_list,NOD,ni)\n",
        "                id = inv_list(ni,NOD,combination)\n",
        "                Ham[i-1,id-1] = Ham[i-1,id-1] + sJint[j-1,0]\n",
        "            else:\n",
        "                Ham[i-1,i-1] = Ham[i-1,i-1] + sJint[j-1,1]\n",
        "    return 0"
      ],
      "id": "37f89a52-e841-4c5e-8f7b-663a39975f41",
      "execution_count": 16,
      "outputs": []
    },
    {
      "cell_type": "code",
      "metadata": {
        "id": "9ba6b2d8-0723-434a-be57-44645148692e"
      },
      "source": [
        "@jit(nopython=True)\n",
        "def make_parameters_1d(NOS,NOxxz):\n",
        "    p_xxz = np.zeros((2,NOxxz),dtype=np.int64)\n",
        "    Jint = np.zeros((NOxxz,2),dtype=np.float64) # Jint[NOxxz,0] --> Jint_x, Jint[NOxxz,1] --> Jint_z\n",
        "    sJint = np.zeros((NOxxz,2),dtype=np.float64) # sJint[NOxxz,0] --> sJint_x, sJint[NOxxz,1] --> sJint_z\n",
        "    for i in range(NOS):\n",
        "        p_xxz[0,i] = i%NOS+1\n",
        "        p_xxz[1,i] = (i+1)%NOS+1\n",
        "        if p_xxz[0,i] > p_xxz[1,i]: # assume i<j for pair (i,j)\n",
        "            tmp = p_xxz[0,i]\n",
        "            p_xxz[0,i] = p_xxz[1,i]\n",
        "            p_xxz[1,i] = tmp\n",
        "    Jint[:,:] = 1.0\n",
        "    sJint[:,0] = 0.5 * Jint[:,0]\n",
        "    sJint[:,1] = 0.25 * Jint[:,1]\n",
        "    return p_xxz, Jint, sJint"
      ],
      "id": "9ba6b2d8-0723-434a-be57-44645148692e",
      "execution_count": 17,
      "outputs": []
    },
    {
      "cell_type": "code",
      "metadata": {
        "id": "17ed3e5b-a327-4b7b-9719-c7354a225288"
      },
      "source": [
        "## memory allocation within get_vec\n",
        "def ham_to_vec_wave_vector(lv,combination,NOD,NOxxz,p_xxz,sJint,NOS):\n",
        "    @jit(nopython=True)\n",
        "    def get_vec(v1): ## v0: new output, v1: old input\n",
        "#        v0 = np.zeros(lv,dtype=np.complex128)\n",
        "        v0 = np.zeros(lv,dtype=np.float64)\n",
        "        for i in range(1,lv+1):\n",
        "#            v0[i-1] = 0.0 + 0.0j\n",
        "            v0[i-1] = 0.0\n",
        "            st_list = list_fly(i,NOD,NOS,combination)\n",
        "            for j in range(1,NOxxz+1):\n",
        "                f1 = p_xxz[0,j-1] in st_list\n",
        "                f2 = p_xxz[1,j-1] in st_list\n",
        "                if f1^f2:\n",
        "                    v0[i-1] = v0[i-1] - sJint[j-1,1] * v1[i-1]\n",
        "                    ni = j_flip_ni(p_xxz[0,j-1],p_xxz[1,j-1],st_list,NOD)\n",
        "                    id = inv_list(ni,NOD,combination)\n",
        "                    v0[i-1] = v0[i-1] + sJint[j-1,0] * v1[id-1]\n",
        "                else:\n",
        "                    v0[i-1] = v0[i-1] + sJint[j-1,1] * v1[i-1]\n",
        "        return v0\n",
        "    return get_vec"
      ],
      "id": "17ed3e5b-a327-4b7b-9719-c7354a225288",
      "execution_count": 18,
      "outputs": []
    },
    {
      "cell_type": "code",
      "metadata": {
        "id": "8895934c-b091-4b25-b4f8-62d2d89a8f0f"
      },
      "source": [
        "## memory allocation outside get_vec\n",
        "def ham_to_vec_wave_vector_2(lv,combination,NOD,NOxxz,p_xxz,sJint,NOS):\n",
        "    @jit(nopython=True)\n",
        "    def get_vec(v1,v0,st_list,ni): ## v0: new output, v1: old input\n",
        "        for i in range(1,lv+1):\n",
        "#            v0[i-1] = 0.0 + 0.0j\n",
        "            v0[i-1] = 0.0\n",
        "            list_fly_2(i,NOD,NOS,combination,st_list)\n",
        "            for j in range(1,NOxxz+1):\n",
        "                f1 = p_xxz[0,j-1] in st_list\n",
        "                f2 = p_xxz[1,j-1] in st_list\n",
        "                if f1^f2:\n",
        "                    v0[i-1] = v0[i-1] - sJint[j-1,1] * v1[i-1]\n",
        "                    j_flip_ni_2(p_xxz[0,j-1],p_xxz[1,j-1],st_list,NOD,ni)\n",
        "                    id = inv_list(ni,NOD,combination)\n",
        "                    v0[i-1] = v0[i-1] + sJint[j-1,0] * v1[id-1]\n",
        "                else:\n",
        "                    v0[i-1] = v0[i-1] + sJint[j-1,1] * v1[i-1]\n",
        "        return v0\n",
        "    return get_vec"
      ],
      "id": "8895934c-b091-4b25-b4f8-62d2d89a8f0f",
      "execution_count": 19,
      "outputs": []
    },
    {
      "cell_type": "code",
      "metadata": {
        "id": "7f86c74c-7ec3-41cc-8799-5db9562a3568"
      },
      "source": [
        "def calculate_1d(NOS,NOD):\n",
        "    #NOS = 4 # number of sites\n",
        "    #NOD = 2 # number of down spins\n",
        "    NOxxz = NOS # number of XXZ interaction\n",
        "    combination = get_combination(NOS,NOD)\n",
        "    THS = combination[NOS-1,NOD-1] # total Hilbert space\n",
        "    print(\"# NOS,NOD\")\n",
        "    print(NOS,NOD)\n",
        "    #print(combination)\n",
        "    print(\"# total Hilbert space\")\n",
        "    print(THS)\n",
        "\n",
        "    p_xxz, Jint, sJint = make_parameters_1d(NOS,NOxxz)\n",
        "    #print(p_xxz)\n",
        "    #print(Jint)\n",
        "    #print(sJint)\n",
        "    #print()\n",
        "\n",
        "    get_vec = ham_to_vec_wave_vector_2(THS,combination,NOD,NOxxz,p_xxz,sJint,NOS)\n",
        "    st_list = np.zeros(NOD,dtype=np.int64)\n",
        "    ni = np.zeros(NOD,dtype=np.int64)\n",
        "    #v0 = np.zeros(THS,dtype=np.complex128)\n",
        "    v0 = np.zeros(THS,dtype=np.float64)\n",
        "    Ham = scipy.sparse.linalg.LinearOperator((THS,THS),matvec=lambda v1: get_vec(v1,v0,st_list,ni))\n",
        "    ene, vec = scipy.sparse.linalg.eigsh(Ham,which=\"SA\",k=np.min([5,THS-1]))\n",
        "    idx = ene.argsort()\n",
        "    ene = ene[idx]\n",
        "    vec = vec[:,idx]\n",
        "    print(\"# energies\")\n",
        "    print(ene)\n",
        "    print()\n",
        "    #print(\"# vectors\")\n",
        "    #for i in range(len(ene)):\n",
        "    #    print(i,vec[:,i])\n",
        "    #print()"
      ],
      "id": "7f86c74c-7ec3-41cc-8799-5db9562a3568",
      "execution_count": 20,
      "outputs": []
    },
    {
      "cell_type": "code",
      "metadata": {
        "colab": {
          "base_uri": "https://localhost:8080/"
        },
        "id": "0c467f8d-5763-4e84-8f8d-46cbab362107",
        "outputId": "b58a3085-9b5d-41eb-bec6-9a4b31749852"
      },
      "source": [
        "#for NOS in [4,8,16,32,64,128]: # number of sites\n",
        "for NOS in [4,8,16,32,64]: # number of sites\n",
        "    for NOD in [1,2,3]: # number of down spins\n",
        "        calculate_1d(NOS,NOD)"
      ],
      "id": "0c467f8d-5763-4e84-8f8d-46cbab362107",
      "execution_count": 21,
      "outputs": [
        {
          "output_type": "stream",
          "name": "stdout",
          "text": [
            "# NOS,NOD\n",
            "4 1\n",
            "# total Hilbert space\n",
            "4\n",
            "# energies\n",
            "[-1.00000000e+00 -8.92119745e-18  2.50310335e-17]\n",
            "\n",
            "# NOS,NOD\n",
            "4 2\n",
            "# total Hilbert space\n",
            "6\n",
            "# energies\n",
            "[-2.00000000e+00 -1.00000000e+00 -2.07835129e-17 -9.34747619e-19\n",
            "  2.26339217e-17]\n",
            "\n",
            "# NOS,NOD\n",
            "4 3\n",
            "# total Hilbert space\n",
            "4\n",
            "# energies\n",
            "[-1.00000000e+00  1.16464203e-17  1.14729885e-16]\n",
            "\n",
            "# NOS,NOD\n",
            "8 1\n",
            "# total Hilbert space\n",
            "8\n",
            "# energies\n",
            "[8.85373054e-17 2.92893219e-01 2.92893219e-01 1.00000000e+00\n",
            " 1.00000000e+00]\n",
            "\n",
            "# NOS,NOD\n",
            "8 2\n",
            "# total Hilbert space\n",
            "28\n",
            "# energies\n",
            "[-1.80193774 -1.2670351  -1.2670351  -1.14412281 -1.14412281]\n",
            "\n",
            "# NOS,NOD\n",
            "8 3\n",
            "# total Hilbert space\n",
            "56\n",
            "# energies\n",
            "[-3.12841906 -2.45873851 -2.45873851 -2.14514837 -2.14514837]\n",
            "\n",
            "# NOS,NOD\n",
            "16 1\n",
            "# total Hilbert space\n",
            "16\n",
            "# energies\n",
            "[2.         2.07612047 2.07612047 2.29289322 2.29289322]\n",
            "\n",
            "# NOS,NOD\n",
            "16 2\n",
            "# total Hilbert space\n",
            "120\n",
            "# energies\n",
            "[0.0437048  0.19283276 0.19283276 0.20823568 0.20823568]\n",
            "\n",
            "# NOS,NOD\n",
            "16 3\n",
            "# total Hilbert space\n",
            "560\n",
            "# energies\n",
            "[-1.81500162 -1.59933824 -1.59933824 -1.5576366  -1.5576366 ]\n",
            "\n",
            "# NOS,NOD\n",
            "32 1\n",
            "# total Hilbert space\n",
            "32\n",
            "# energies\n",
            "[6.         6.01921472 6.01921472 6.07612047 6.07612047]\n",
            "\n",
            "# NOS,NOD\n",
            "32 2\n",
            "# total Hilbert space\n",
            "496\n",
            "# energies\n",
            "[4.01026135 4.04849992 4.04849992 4.05037987 4.05037987]\n",
            "\n",
            "# NOS,NOD\n",
            "32 3\n",
            "# total Hilbert space\n",
            "4960\n",
            "# energies\n",
            "[2.0422923  2.09916328 2.09916328 2.10425735 2.10425735]\n",
            "\n",
            "# NOS,NOD\n",
            "64 1\n",
            "# total Hilbert space\n",
            "64\n",
            "# energies\n",
            "[14.         14.00481527 14.00481527 14.01921472 14.01921472]\n",
            "\n",
            "# NOS,NOD\n",
            "64 2\n",
            "# total Hilbert space\n",
            "2016\n",
            "# energies\n",
            "[12.00248616 12.01210492 12.01210492 12.01233576 12.01233576]\n",
            "\n",
            "# NOS,NOD\n",
            "64 3\n",
            "# total Hilbert space\n",
            "41664\n",
            "# energies\n",
            "[10.01009807 10.02449643 10.02449643 10.02511812 10.02511812]\n",
            "\n"
          ]
        }
      ]
    },
    {
      "cell_type": "code",
      "metadata": {
        "id": "c8583682-10ca-436d-8d51-8c1a52af836a"
      },
      "source": [
        ""
      ],
      "id": "c8583682-10ca-436d-8d51-8c1a52af836a",
      "execution_count": 21,
      "outputs": []
    }
  ]
}