{
 "cells": [
  {
   "cell_type": "code",
   "execution_count": 1,
   "id": "b463ba94-e940-47ae-a726-83b2715b7572",
   "metadata": {},
   "outputs": [
    {
     "name": "stdout",
     "output_type": "stream",
     "text": [
      "Julia Version 1.0.5\n",
      "Commit 3af96bcefc (2019-09-09 19:06 UTC)\n",
      "Platform Info:\n",
      "  OS: macOS (x86_64-apple-darwin18.6.0)\n",
      "  CPU: Intel(R) Core(TM) i7-8750H CPU @ 2.20GHz\n",
      "  WORD_SIZE: 64\n",
      "  LIBM: libopenlibm\n",
      "  LLVM: libLLVM-6.0.0 (ORCJIT, skylake)\n"
     ]
    }
   ],
   "source": [
    "versioninfo()"
   ]
  },
  {
   "cell_type": "code",
   "execution_count": 2,
   "id": "42b07027-823e-41d2-bcee-683c229d2c9b",
   "metadata": {},
   "outputs": [],
   "source": [
    "#import Pkg; Pkg.add(\"Arpack\")\n",
    "#import Pkg; Pkg.add(\"ArgParse\")\n",
    "#import Pkg; Pkg.add(\"LinearMaps\")\n",
    "\n",
    "using LinearAlgebra\n",
    "using Arpack\n",
    "using SparseArrays\n",
    "using LinearMaps\n",
    "#using ArgParse"
   ]
  },
  {
   "cell_type": "code",
   "execution_count": 3,
   "id": "27625538-c1a2-44bc-a9b4-99d598288822",
   "metadata": {},
   "outputs": [
    {
     "data": {
      "text/plain": [
       "get_combination (generic function with 1 method)"
      ]
     },
     "execution_count": 3,
     "metadata": {},
     "output_type": "execute_result"
    }
   ],
   "source": [
    "function get_combination(NOS,NOD)\n",
    "    combination = zeros(Int64,(NOS,NOD))\n",
    "    @inbounds for j in 1:NOD\n",
    "        for i in 1:NOS\n",
    "            combination[i,j] = f_combination(i,j)\n",
    "        end\n",
    "    end\n",
    "    return combination\n",
    "end"
   ]
  },
  {
   "cell_type": "code",
   "execution_count": 4,
   "id": "67ba02e4-9b08-4a5a-b41c-f873b192c702",
   "metadata": {},
   "outputs": [
    {
     "data": {
      "text/plain": [
       "f_combination (generic function with 1 method)"
      ]
     },
     "execution_count": 4,
     "metadata": {},
     "output_type": "execute_result"
    }
   ],
   "source": [
    "function f_combination(n,k)\n",
    "    if n<k\n",
    "        return 0\n",
    "    end\n",
    "    nCk = 1\n",
    "    for i in 1:k\n",
    "        nCk = nCk * (n-k+i)\n",
    "        nCk = div(nCk,i)\n",
    "    end\n",
    "    return nCk\n",
    "end"
   ]
  },
  {
   "cell_type": "code",
   "execution_count": 5,
   "id": "837a9b10-83d9-45c3-b2b0-ea8f2a669208",
   "metadata": {},
   "outputs": [
    {
     "data": {
      "text/plain": [
       "insertion_sort! (generic function with 1 method)"
      ]
     },
     "execution_count": 5,
     "metadata": {},
     "output_type": "execute_result"
    }
   ],
   "source": [
    "function insertion_sort!(a,NOD)\n",
    "    for i in 2:NOD\n",
    "        j = i - 1\n",
    "        @inbounds temp = a[i]\n",
    "        @inbounds while a[j] > temp\n",
    "            a[j+1] = a[j]\n",
    "            j = j - 1\n",
    "            if j==0\n",
    "                break\n",
    "            end\n",
    "        end\n",
    "        @inbounds a[j+1] = temp\n",
    "    end\n",
    "    return 0\n",
    "end"
   ]
  },
  {
   "cell_type": "code",
   "execution_count": 6,
   "id": "43db410a-d867-4075-983a-3ac247bb4a66",
   "metadata": {},
   "outputs": [
    {
     "data": {
      "text/plain": [
       "inv_list (generic function with 1 method)"
      ]
     },
     "execution_count": 6,
     "metadata": {},
     "output_type": "execute_result"
    }
   ],
   "source": [
    "function inv_list(ni,NOD,combination)\n",
    "    @inbounds val_inv_list = ni[1]\n",
    "    @inbounds for i in 2:NOD\n",
    "        val_inv_list = val_inv_list + combination[ni[i]-1,i]\n",
    "    end\n",
    "    return val_inv_list\n",
    "end"
   ]
  },
  {
   "cell_type": "code",
   "execution_count": 7,
   "id": "9837593f-7e38-465d-a244-c421c185125d",
   "metadata": {},
   "outputs": [
    {
     "data": {
      "text/plain": [
       "qsort_w_order! (generic function with 1 method)"
      ]
     },
     "execution_count": 7,
     "metadata": {},
     "output_type": "execute_result"
    }
   ],
   "source": [
    "function qsort_w_order!(a,o,first,last)\n",
    "    @inbounds x = a[div(first+last,2)]\n",
    "    i = first\n",
    "    j = last\n",
    "    while true\n",
    "        @inbounds while a[i] < x\n",
    "            i = i + 1\n",
    "        end\n",
    "        @inbounds while x < a[j]\n",
    "            j = j - 1\n",
    "        end\n",
    "        if i >= j\n",
    "            break\n",
    "        end\n",
    "        @inbounds t8 = a[i]; @inbounds a[i] = a[j]; @inbounds a[j] = t8\n",
    "        @inbounds t  = o[i]; @inbounds o[i] = o[j]; @inbounds o[j] = t\n",
    "        i = i + 1\n",
    "        j = j - 1\n",
    "    end\n",
    "    if first < i - 1\n",
    "        qsort_w_order!(a,o,first,i-1)\n",
    "    end\n",
    "    if j + 1 < last\n",
    "        qsort_w_order!(a,o,j+1,last)\n",
    "    end\n",
    "    return 0\n",
    "end"
   ]
  },
  {
   "cell_type": "code",
   "execution_count": 8,
   "id": "97d44728-19cb-4433-964d-72c019a70a14",
   "metadata": {},
   "outputs": [
    {
     "data": {
      "text/plain": [
       "list_fly (generic function with 1 method)"
      ]
     },
     "execution_count": 8,
     "metadata": {},
     "output_type": "execute_result"
    }
   ],
   "source": [
    "## output \"ni\" is returned\n",
    "function list_fly(t,NOD,NOS,combination)\n",
    "    ni = zeros(Int64,NOD)\n",
    "    s = t\n",
    "    j = NOS - 1\n",
    "    for i in NOD:-1:2\n",
    "        b, j0 = binary_search(s,combination[:,i],i,j)\n",
    "        j = j0 - 1\n",
    "        ni[i] = j0\n",
    "        s = s - combination[j,i]\n",
    "    end\n",
    "    ni[1] = s\n",
    "    return ni\n",
    "end"
   ]
  },
  {
   "cell_type": "code",
   "execution_count": 9,
   "id": "2d1639fe-2d68-4d56-a65c-cbd9c8a048be",
   "metadata": {},
   "outputs": [
    {
     "data": {
      "text/plain": [
       "list_fly_2! (generic function with 1 method)"
      ]
     },
     "execution_count": 9,
     "metadata": {},
     "output_type": "execute_result"
    }
   ],
   "source": [
    "## output \"ni\" is in arguments\n",
    "function list_fly_2!(t,NOD,NOS,combination,ni)\n",
    "    @inbounds fill!(ni,0)\n",
    "    s = t\n",
    "    j = NOS - 1\n",
    "    @inbounds for i in NOD:-1:2\n",
    "        b, j0 = binary_search(s,combination[:,i],i,j)\n",
    "        j = j0 - 1\n",
    "        ni[i] = j0\n",
    "        s = s - combination[j,i]\n",
    "    end\n",
    "    @inbounds ni[1] = s\n",
    "    return 0\n",
    "end"
   ]
  },
  {
   "cell_type": "code",
   "execution_count": 10,
   "id": "296f0df9-a11c-4b55-a4d4-31fdfe44ba71",
   "metadata": {},
   "outputs": [
    {
     "data": {
      "text/plain": [
       "binary_search (generic function with 1 method)"
      ]
     },
     "execution_count": 10,
     "metadata": {},
     "output_type": "execute_result"
    }
   ],
   "source": [
    "function binary_search(s,list_s,ls,le)\n",
    "    bmin = ls; bmax = le\n",
    "    while true\n",
    "        b = bmin + div(bmax-bmin,2)\n",
    "        @inbounds if s < list_s[b]\n",
    "            bmax = b - 1\n",
    "        elseif list_s[b] < s\n",
    "            bmin = b + 1\n",
    "        else\n",
    "            bmin = b\n",
    "            return b, bmin\n",
    "        end\n",
    "        if bmin > bmax\n",
    "            b = -1\n",
    "            return b, bmin\n",
    "        end\n",
    "    end\n",
    "    return b, bmin\n",
    "end"
   ]
  },
  {
   "cell_type": "code",
   "execution_count": 11,
   "id": "fc526de5-ef32-4c52-9fd3-8f8906a7ff95",
   "metadata": {},
   "outputs": [
    {
     "data": {
      "text/plain": [
       "list_to_state_no_duplication (generic function with 1 method)"
      ]
     },
     "execution_count": 11,
     "metadata": {},
     "output_type": "execute_result"
    }
   ],
   "source": [
    "function list_to_state_no_duplication(st_list,NOS)\n",
    "    string01 = \"\"\n",
    "    for i in 1:NOS\n",
    "        if i in st_list\n",
    "            string01 = string01 * \"1\" # down\n",
    "        else\n",
    "            string01 = string01 * \"0\" # up\n",
    "        end\n",
    "    end\n",
    "    return string01\n",
    "end"
   ]
  },
  {
   "cell_type": "code",
   "execution_count": 12,
   "id": "445f2a67-fbc1-4489-8a8b-a5a212b4b81b",
   "metadata": {},
   "outputs": [
    {
     "data": {
      "text/plain": [
       "list_to_state (generic function with 1 method)"
      ]
     },
     "execution_count": 12,
     "metadata": {},
     "output_type": "execute_result"
    }
   ],
   "source": [
    "function list_to_state(st_list,NOS)\n",
    "    list01 = zeros(Int64,NOS)\n",
    "    for i in st_list\n",
    "        list01[i] += 1\n",
    "    end\n",
    "    list01 = mod.(list01,2)\n",
    "    string01 = join(list01)\n",
    "    return string01\n",
    "end"
   ]
  },
  {
   "cell_type": "code",
   "execution_count": 13,
   "id": "c5a4a257-64ad-4eea-b996-efd20e4bf6e9",
   "metadata": {},
   "outputs": [
    {
     "data": {
      "text/plain": [
       "j_flip_ni (generic function with 1 method)"
      ]
     },
     "execution_count": 13,
     "metadata": {},
     "output_type": "execute_result"
    }
   ],
   "source": [
    "## output \"nd\" is returned\n",
    "function j_flip_ni(i,j,n,NOD)\n",
    "    nd = ones(Int64,NOD)\n",
    "    kr = NOD\n",
    "    for _kr in NOD:-1:1\n",
    "        if j < n[_kr]\n",
    "            kr = _kr\n",
    "            continue\n",
    "        elseif j > n[_kr]\n",
    "            kr = _kr\n",
    "            break\n",
    "        else\n",
    "            fill!(nd,0)\n",
    "            kr = _kr\n",
    "            break\n",
    "        end\n",
    "    end\n",
    "    if nd[NOD] == 1 # S+_i S-_j\n",
    "        kl = 1\n",
    "        for _kl in 1:kr\n",
    "            if i == n[_kl]\n",
    "                kl = _kl\n",
    "                break\n",
    "            end\n",
    "            kl = _kl+1\n",
    "        end\n",
    "        nd[kl:kr-1] = n[kl+1:kr]\n",
    "        nd[kr] = j\n",
    "    else # S-_i S+_j\n",
    "        kl = 1\n",
    "        for _kl in 1:kr\n",
    "            if i < n[_kl]\n",
    "                kl = _kl\n",
    "                break\n",
    "            end\n",
    "            kl = _kl+1\n",
    "        end\n",
    "        nd[kl] = i\n",
    "        nd[kl+1:kr] = n[kl:kr-1]\n",
    "    end\n",
    "    nd[1:kl-1] = n[1:kl-1]\n",
    "    nd[kr+1:NOD] = n[kr+1:NOD]\n",
    "    return nd\n",
    "end"
   ]
  },
  {
   "cell_type": "code",
   "execution_count": 14,
   "id": "5a12e2a9-0a1e-45e4-b9e8-3aff3f9ea120",
   "metadata": {},
   "outputs": [
    {
     "data": {
      "text/plain": [
       "j_flip_ni_2! (generic function with 1 method)"
      ]
     },
     "execution_count": 14,
     "metadata": {},
     "output_type": "execute_result"
    }
   ],
   "source": [
    "## output \"nd\" is in arguments\n",
    "function j_flip_ni_2!(i,j,n,NOD,nd)\n",
    "    @inbounds fill!(nd,1)\n",
    "    kr = NOD\n",
    "    @inbounds for _kr in NOD:-1:1\n",
    "        @inbounds if j < n[_kr]\n",
    "            kr = _kr\n",
    "            continue\n",
    "        elseif j > n[_kr]\n",
    "            kr = _kr\n",
    "            break\n",
    "        else\n",
    "            @inbounds fill!(nd,0)\n",
    "            kr = _kr\n",
    "            break\n",
    "        end\n",
    "    end\n",
    "    @inbounds if nd[NOD] == 1 # S+_i S-_j\n",
    "        kl = 1\n",
    "        for _kl in 1:kr\n",
    "            @inbounds if i == n[_kl]\n",
    "                kl = _kl\n",
    "                break\n",
    "            end\n",
    "            kl = _kl+1\n",
    "        end\n",
    "        @inbounds nd[kl:kr-1] = n[kl+1:kr]\n",
    "        @inbounds nd[kr] = j\n",
    "    else # S-_i S+_j\n",
    "        kl = 1\n",
    "        for _kl in 1:kr\n",
    "            @inbounds if i < n[_kl]\n",
    "                kl = _kl\n",
    "                break\n",
    "            end\n",
    "            kl = _kl+1\n",
    "        end\n",
    "        @inbounds nd[kl] = i\n",
    "        @inbounds nd[kl+1:kr] = n[kl:kr-1]\n",
    "    end\n",
    "    @inbounds nd[1:kl-1] = n[1:kl-1]\n",
    "    @inbounds nd[kr+1:NOD] = n[kr+1:NOD]\n",
    "    return 0\n",
    "end"
   ]
  },
  {
   "cell_type": "code",
   "execution_count": 15,
   "id": "4c5116c9-8de9-4dc6-ac63-e574257fca7c",
   "metadata": {},
   "outputs": [
    {
     "data": {
      "text/plain": [
       "make_full_hamiltonian (generic function with 1 method)"
      ]
     },
     "execution_count": 15,
     "metadata": {},
     "output_type": "execute_result"
    }
   ],
   "source": [
    "## output \"Ham\" is returned\n",
    "function make_full_hamiltonian(lv,combination,NOD,NOxxz,p_xxz,sJint,NOS)\n",
    "    Ham = zeros(Float64,(lv,lv))\n",
    "    for i in 1:lv\n",
    "        st_list = list_fly(i,NOD,NOS,combination)\n",
    "        for j in 1:NOxxz\n",
    "            f1 = p_xxz[1,j] in st_list\n",
    "            f2 = p_xxz[2,j] in st_list\n",
    "            if xor(f1,f2)\n",
    "                Ham[i,i] = Ham[i,i] - sJint[j,2]\n",
    "                ni = j_flip_ni(p_xxz[1,j],p_xxz[2,j],st_list,NOD)\n",
    "                id = inv_list(ni,NOD,combination)\n",
    "                Ham[i,id] = Ham[i,id] + sJint[j,1]\n",
    "            else\n",
    "                Ham[i,i] = Ham[i,i] + sJint[j,2]\n",
    "            end\n",
    "        end\n",
    "    end\n",
    "    return Ham\n",
    "end"
   ]
  },
  {
   "cell_type": "code",
   "execution_count": 16,
   "id": "22123812-4b61-48fe-b7d5-d0ebc20e0d7f",
   "metadata": {},
   "outputs": [
    {
     "data": {
      "text/plain": [
       "make_full_hamiltonian_2! (generic function with 1 method)"
      ]
     },
     "execution_count": 16,
     "metadata": {},
     "output_type": "execute_result"
    }
   ],
   "source": [
    "## output \"Ham\" is in arguments\n",
    "function make_full_hamiltonian_2!(lv,Ham,combination,NOD,NOxxz,p_xxz,sJint,NOS)\n",
    "    st_list = zeros(Int64,NOD)\n",
    "    ni = zeros(Int64,NOD)\n",
    "    @inbounds for i in 1:lv\n",
    "        list_fly_2!(i,NOD,NOS,combination,st_list)\n",
    "        @inbounds for j in 1:NOxxz\n",
    "            f1 = p_xxz[1,j] in st_list\n",
    "            f2 = p_xxz[2,j] in st_list\n",
    "            @inbounds if xor(f1,f2)\n",
    "                Ham[i,i] = Ham[i,i] - sJint[j,2]\n",
    "                j_flip_ni_2!(p_xxz[1,j],p_xxz[2,j],st_list,NOD,ni)\n",
    "                id = inv_list(ni,NOD,combination)\n",
    "                Ham[i,id] = Ham[i,id] + sJint[j,1]\n",
    "            else\n",
    "                Ham[i,i] = Ham[i,i] + sJint[j,2]\n",
    "            end\n",
    "        end\n",
    "    end\n",
    "    return Ham\n",
    "end"
   ]
  },
  {
   "cell_type": "code",
   "execution_count": 17,
   "id": "bdc27f5d-2c57-48a2-92cb-2d0a5b1ef0ef",
   "metadata": {},
   "outputs": [
    {
     "data": {
      "text/plain": [
       "make_parameters_1d (generic function with 1 method)"
      ]
     },
     "execution_count": 17,
     "metadata": {},
     "output_type": "execute_result"
    }
   ],
   "source": [
    "function make_parameters_1d(NOS,NOxxz)\n",
    "    p_xxz = zeros(Int64,(2,NOxxz))\n",
    "    Jint = zeros(Float64,(NOxxz,2)) # Jint[NOxxz,1] --> Jint_x, Jint[NOxxz,2] --> Jint_z\n",
    "    sJint = zeros(Float64,(NOxxz,2)) # sJint[NOxxz,1] --> sJint_x, sJint[NOxxz,2] --> sJint_z\n",
    "    @inbounds for i in 1:NOS\n",
    "        p_xxz[1,i] = mod(i-1,NOS)+1\n",
    "        p_xxz[2,i] = mod(i,NOS)+1\n",
    "        @inbounds if p_xxz[1,i] > p_xxz[2,i] # assume i<j for pair (i,j)\n",
    "            tmp = p_xxz[1,i]\n",
    "            p_xxz[1,i] = p_xxz[2,i]\n",
    "            p_xxz[2,i] = tmp\n",
    "        end\n",
    "    end\n",
    "    @inbounds fill!(Jint,1.0)\n",
    "    @inbounds sJint[:,1] = 0.5 .* Jint[:,1]\n",
    "    @inbounds sJint[:,2] = 0.25 .* Jint[:,2]\n",
    "    return p_xxz, Jint, sJint\n",
    "end"
   ]
  },
  {
   "cell_type": "code",
   "execution_count": 18,
   "id": "1bc2c9f1-7fca-4140-ad14-d0b15fb4e25d",
   "metadata": {},
   "outputs": [
    {
     "data": {
      "text/plain": [
       "ham_to_vec_wave_vector! (generic function with 1 method)"
      ]
     },
     "execution_count": 18,
     "metadata": {},
     "output_type": "execute_result"
    }
   ],
   "source": [
    "## memory allocation within get_vec\n",
    "function ham_to_vec_wave_vector!(lv,combination,NOD,NOxxz,p_xxz,sJint,NOS)\n",
    "    function get_vec!(v0::AbstractVector,v1::AbstractVector) ## v0: new output, v1: old input\n",
    "        length(v0) == lv || throw(DimensionMismatch())\n",
    "        length(v1) == lv || throw(DimensionMismatch())\n",
    "        for i = 1:lv\n",
    "            v0[i] = 0.0 + 0.0im\n",
    "            st_list = list_fly(i,NOD,NOS,combination)\n",
    "            for j in 1:NOxxz\n",
    "                f1 = p_xxz[1,j] in st_list\n",
    "                f2 = p_xxz[2,j] in st_list\n",
    "                if xor(f1,f2)\n",
    "                    v0[i] = v0[i] - sJint[j,2] * v1[i]\n",
    "                    ni = j_flip_ni(p_xxz[1,j],p_xxz[2,j],st_list,NOD)\n",
    "                    id = inv_list(ni,NOD,combination)\n",
    "                    v0[i] = v0[i] + sJint[j,1] * v1[id]\n",
    "                else\n",
    "                    v0[i] = v0[i] + sJint[j,2] * v1[i]\n",
    "                end\n",
    "            end\n",
    "        end\n",
    "        return v0\n",
    "    end\n",
    "    return (v0,v1) -> get_vec!(v0,v1)\n",
    "end"
   ]
  },
  {
   "cell_type": "code",
   "execution_count": 19,
   "id": "84e86ed0-8d7f-4d00-8fc5-1ac097c37fb4",
   "metadata": {},
   "outputs": [
    {
     "data": {
      "text/plain": [
       "ham_to_vec_wave_vector_2! (generic function with 1 method)"
      ]
     },
     "execution_count": 19,
     "metadata": {},
     "output_type": "execute_result"
    }
   ],
   "source": [
    "## memory allocation outside get_vec\n",
    "function ham_to_vec_wave_vector_2!(lv,combination,NOD,NOxxz,p_xxz,sJint,NOS)\n",
    "    st_list = zeros(Int64,NOD)\n",
    "    ni = zeros(Int64,NOD)\n",
    "    function get_vec_2!(v0::AbstractVector,v1::AbstractVector) ## v0: new output, v1: old input\n",
    "        length(v0) == lv || throw(DimensionMismatch())\n",
    "        length(v1) == lv || throw(DimensionMismatch())\n",
    "        @inbounds for i = 1:lv\n",
    "            v0[i] = 0.0 + 0.0im\n",
    "            list_fly_2!(i,NOD,NOS,combination,st_list)\n",
    "            @inbounds for j in 1:NOxxz\n",
    "                f1 = p_xxz[1,j] in st_list\n",
    "                f2 = p_xxz[2,j] in st_list\n",
    "                @inbounds if xor(f1,f2)\n",
    "                    v0[i] = v0[i] - sJint[j,2] * v1[i]\n",
    "                    j_flip_ni_2!(p_xxz[1,j],p_xxz[2,j],st_list,NOD,ni)\n",
    "                    id = inv_list(ni,NOD,combination)\n",
    "                    v0[i] = v0[i] + sJint[j,1] * v1[id]\n",
    "                else\n",
    "                    v0[i] = v0[i] + sJint[j,2] * v1[i]\n",
    "                end\n",
    "            end\n",
    "        end\n",
    "        return v0\n",
    "    end\n",
    "    return (v0,v1) -> get_vec_2!(v0,v1)\n",
    "end"
   ]
  },
  {
   "cell_type": "code",
   "execution_count": 20,
   "id": "4bce2b43-ab52-46cc-b4e4-1eea8820e209",
   "metadata": {},
   "outputs": [
    {
     "data": {
      "text/plain": [
       "calculate_1d (generic function with 1 method)"
      ]
     },
     "execution_count": 20,
     "metadata": {},
     "output_type": "execute_result"
    }
   ],
   "source": [
    "function calculate_1d(NOS,NOD)\n",
    "    #NOS = 4 # number of sites\n",
    "    #NOD = 2 # number of down spins\n",
    "    NOxxz = NOS # number of XXZ interaction\n",
    "    combination = get_combination(NOS,NOD)\n",
    "    THS = combination[NOS,NOD] # total Hilbert space\n",
    "    println(\"# NOS,NOD\")\n",
    "    println(NOS,\" \",NOD)\n",
    "    #display(combination)\n",
    "    println(\"# total Hilbert space\")\n",
    "    println(THS)\n",
    "\n",
    "    p_xxz, Jint, sJint = make_parameters_1d(NOS,NOxxz)\n",
    "    #println(p_xxz)\n",
    "    #println(Jint)\n",
    "    #println(sJint)\n",
    "    #println()\n",
    "\n",
    "    get_vec_LM_2! = ham_to_vec_wave_vector_2!(THS,combination,NOD,NOxxz,p_xxz,sJint,NOS)\n",
    "    Ham = LinearMap(get_vec_LM_2!,THS;ismutating=true,issymmetric=true)\n",
    "    #println(Ham)\n",
    "    #println()\n",
    "    ene,vec = eigs(Ham,nev=5,which=:SR)\n",
    "    println(\"# energies\")\n",
    "    println(ene)\n",
    "    println()\n",
    "    #println(\"# vectors\")\n",
    "    #for i in 1:length(ene)\n",
    "    #    println(i,vec[:,i])\n",
    "    #end\n",
    "    #println()\n",
    "end"
   ]
  },
  {
   "cell_type": "code",
   "execution_count": 21,
   "id": "8285830a-ac19-4e04-9bb3-771f7a8c628d",
   "metadata": {},
   "outputs": [
    {
     "name": "stdout",
     "output_type": "stream",
     "text": [
      "# NOS,NOD\n",
      "4 1\n",
      "# total Hilbert space\n",
      "4\n"
     ]
    },
    {
     "name": "stderr",
     "output_type": "stream",
     "text": [
      "┌ Warning: Adjusting nev from 5 to 3\n",
      "└ @ Arpack /Users/kaneko/.julia/packages/Arpack/zCmTA/src/Arpack.jl:99\n"
     ]
    },
    {
     "name": "stdout",
     "output_type": "stream",
     "text": [
      "# energies\n",
      "[-1.0, -8.9212e-18, 2.5031e-17]\n",
      "\n",
      "# NOS,NOD\n",
      "4 2\n",
      "# total Hilbert space\n",
      "6\n",
      "# energies\n",
      "[-2.0, -1.0, -2.07835e-17, -9.34748e-19, 2.26339e-17]\n",
      "\n",
      "# NOS,NOD\n",
      "4 3\n",
      "# total Hilbert space\n",
      "4\n",
      "# energies\n",
      "[-1.0, 1.16464e-17, 1.1473e-16]\n",
      "\n",
      "# NOS,NOD\n",
      "8 1\n",
      "# total Hilbert space\n",
      "8\n",
      "# energies\n",
      "[8.85373e-17, 0.292893, 0.292893, 1.0, 1.0]\n",
      "\n",
      "# NOS,NOD\n",
      "8 2\n",
      "# total Hilbert space\n",
      "28\n",
      "# energies\n",
      "[-1.80194, -1.26704, -1.26704, -1.14412, -1.14412]\n",
      "\n",
      "# NOS,NOD\n",
      "8 3\n",
      "# total Hilbert space\n",
      "56\n",
      "# energies\n",
      "[-3.12842, -2.45874, -2.45874, -2.14515, -2.14515]\n",
      "\n",
      "# NOS,NOD\n",
      "16 1\n",
      "# total Hilbert space\n",
      "16\n",
      "# energies\n",
      "[2.0, 2.07612, 2.07612, 2.29289, 2.29289]\n",
      "\n",
      "# NOS,NOD\n",
      "16 2\n",
      "# total Hilbert space\n",
      "120\n",
      "# energies\n",
      "[0.0437048, 0.192833, 0.192833, 0.208236, 0.208236]\n",
      "\n",
      "# NOS,NOD\n",
      "16 3\n",
      "# total Hilbert space\n",
      "560\n",
      "# energies"
     ]
    },
    {
     "name": "stderr",
     "output_type": "stream",
     "text": [
      "┌ Warning: Adjusting nev from 5 to 3\n",
      "└ @ Arpack /Users/kaneko/.julia/packages/Arpack/zCmTA/src/Arpack.jl:99\n"
     ]
    },
    {
     "name": "stdout",
     "output_type": "stream",
     "text": [
      "\n",
      "[-1.815, -1.59934, -1.59934, -1.55764, -1.55764]\n",
      "\n",
      "# NOS,NOD\n",
      "32 1\n",
      "# total Hilbert space\n",
      "32\n",
      "# energies\n",
      "[6.0, 6.01921, 6.01921, 6.07612, 6.07612]\n",
      "\n",
      "# NOS,NOD\n",
      "32 2\n",
      "# total Hilbert space\n",
      "496\n",
      "# energies\n",
      "[4.01026, 4.0485, 4.0485, 4.05038, 4.05038]\n",
      "\n",
      "# NOS,NOD\n",
      "32 3\n",
      "# total Hilbert space\n",
      "4960\n",
      "# energies\n",
      "[2.04229, 2.09916, 2.09916, 2.10426, 2.10426]\n",
      "\n"
     ]
    }
   ],
   "source": [
    "#for NOS in [4,8,16,32,64,128] # number of sites\n",
    "#for NOS in [4,8,16,32,64] # number of sites\n",
    "for NOS in [4,8,16,32] # number of sites\n",
    "    for NOD in [1,2,3] # number of down spins\n",
    "        calculate_1d(NOS,NOD)\n",
    "    end\n",
    "end"
   ]
  },
  {
   "cell_type": "code",
   "execution_count": null,
   "id": "d1153f57-339e-4461-8175-c75305218d42",
   "metadata": {},
   "outputs": [],
   "source": []
  }
 ],
 "metadata": {
  "kernelspec": {
   "display_name": "Julia 1.0.5",
   "language": "julia",
   "name": "julia-1.0"
  },
  "language_info": {
   "file_extension": ".jl",
   "mimetype": "application/julia",
   "name": "julia",
   "version": "1.0.5"
  },
  "toc-showcode": false
 },
 "nbformat": 4,
 "nbformat_minor": 5
}
