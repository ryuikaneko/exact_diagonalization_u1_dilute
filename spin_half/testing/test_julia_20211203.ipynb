{
 "cells": [
  {
   "cell_type": "code",
   "execution_count": 1,
   "id": "b463ba94-e940-47ae-a726-83b2715b7572",
   "metadata": {},
   "outputs": [
    {
     "name": "stdout",
     "output_type": "stream",
     "text": [
      "Julia Version 1.0.5\n",
      "Commit 3af96bcefc (2019-09-09 19:06 UTC)\n",
      "Platform Info:\n",
      "  OS: macOS (x86_64-apple-darwin18.6.0)\n",
      "  CPU: Intel(R) Core(TM) i7-8750H CPU @ 2.20GHz\n",
      "  WORD_SIZE: 64\n",
      "  LIBM: libopenlibm\n",
      "  LLVM: libLLVM-6.0.0 (ORCJIT, skylake)\n"
     ]
    }
   ],
   "source": [
    "versioninfo()"
   ]
  },
  {
   "cell_type": "code",
   "execution_count": 2,
   "id": "42b07027-823e-41d2-bcee-683c229d2c9b",
   "metadata": {},
   "outputs": [],
   "source": [
    "using LinearAlgebra\n",
    "#using Arpack\n",
    "#using SparseArrays\n",
    "#using ArgParse"
   ]
  },
  {
   "cell_type": "code",
   "execution_count": 3,
   "id": "27625538-c1a2-44bc-a9b4-99d598288822",
   "metadata": {},
   "outputs": [
    {
     "data": {
      "text/plain": [
       "get_combination (generic function with 1 method)"
      ]
     },
     "execution_count": 3,
     "metadata": {},
     "output_type": "execute_result"
    }
   ],
   "source": [
    "function get_combination(NOS,NOD)\n",
    "    combination = zeros(Int64,(NOS,NOD))\n",
    "    for j in 1:NOD\n",
    "        for i in 1:NOS\n",
    "            combination[i,j] = f_combination(i,j)\n",
    "        end\n",
    "    end\n",
    "    return combination\n",
    "end"
   ]
  },
  {
   "cell_type": "code",
   "execution_count": 4,
   "id": "67ba02e4-9b08-4a5a-b41c-f873b192c702",
   "metadata": {},
   "outputs": [
    {
     "data": {
      "text/plain": [
       "f_combination (generic function with 1 method)"
      ]
     },
     "execution_count": 4,
     "metadata": {},
     "output_type": "execute_result"
    }
   ],
   "source": [
    "function f_combination(n,k)\n",
    "    if n<k\n",
    "        return 0\n",
    "    end\n",
    "    nCk = 1\n",
    "    for i in 1:k\n",
    "        nCk = nCk * (n-k+i)\n",
    "        nCk = div(nCk,i)\n",
    "    end\n",
    "    return nCk\n",
    "end"
   ]
  },
  {
   "cell_type": "code",
   "execution_count": 5,
   "id": "6a48ffeb-47f6-43f6-95f3-c2dd0bcb734d",
   "metadata": {},
   "outputs": [
    {
     "data": {
      "text/plain": [
       "10×5 Array{Int64,2}:\n",
       "  1   0    0    0    0\n",
       "  2   1    0    0    0\n",
       "  3   3    1    0    0\n",
       "  4   6    4    1    0\n",
       "  5  10   10    5    1\n",
       "  6  15   20   15    6\n",
       "  7  21   35   35   21\n",
       "  8  28   56   70   56\n",
       "  9  36   84  126  126\n",
       " 10  45  120  210  252"
      ]
     },
     "metadata": {},
     "output_type": "display_data"
    },
    {
     "name": "stdout",
     "output_type": "stream",
     "text": [
      "\n",
      "0 0 1\n",
      "\n",
      "1 0 1\n",
      "1 1 1\n",
      "\n",
      "2 0 1\n",
      "2 1 2\n",
      "2 2 1\n",
      "\n",
      "3 0 1\n",
      "3 1 3\n",
      "3 2 3\n",
      "3 3 1\n",
      "\n",
      "4 0 1\n",
      "4 1 4\n",
      "4 2 6\n",
      "4 3 4\n",
      "4 4 1\n",
      "\n"
     ]
    }
   ],
   "source": [
    "combination = get_combination(10,5)\n",
    "#println(combination)\n",
    "#show(combination)\n",
    "display(combination)\n",
    "println()\n",
    "\n",
    "for n in 0:4\n",
    "    for k in 0:n\n",
    "        println(n,\" \",k,\" \",f_combination(n,k))\n",
    "    end\n",
    "    println()\n",
    "end"
   ]
  },
  {
   "cell_type": "code",
   "execution_count": 6,
   "id": "837a9b10-83d9-45c3-b2b0-ea8f2a669208",
   "metadata": {},
   "outputs": [
    {
     "data": {
      "text/plain": [
       "insertion_sort! (generic function with 1 method)"
      ]
     },
     "execution_count": 6,
     "metadata": {},
     "output_type": "execute_result"
    }
   ],
   "source": [
    "function insertion_sort!(a,NOD)\n",
    "    for i in 2:NOD\n",
    "        j = i - 1\n",
    "        temp = a[i]\n",
    "        while a[j] > temp\n",
    "            a[j+1] = a[j]\n",
    "            j = j - 1\n",
    "            if j==0\n",
    "                break\n",
    "            end\n",
    "        end\n",
    "        a[j+1] = temp\n",
    "    end\n",
    "    return 0\n",
    "end"
   ]
  },
  {
   "cell_type": "code",
   "execution_count": 7,
   "id": "2f2416ee-9ee2-499a-aacc-ab8d3a3ff792",
   "metadata": {},
   "outputs": [
    {
     "name": "stdout",
     "output_type": "stream",
     "text": [
      "[16, 15, 14, 13, 12, 11, 10, 9, 8, 7, 6, 5, 4, 3, 2, 1]\n",
      "[1, 2, 3, 4, 5, 6, 7, 8, 9, 10, 11, 12, 13, 14, 15, 16]\n"
     ]
    }
   ],
   "source": [
    "a = [16:-1:1;]\n",
    "#display(a)\n",
    "println(a)\n",
    "insertion_sort!(a,16)\n",
    "#display(a)\n",
    "println(a)"
   ]
  },
  {
   "cell_type": "code",
   "execution_count": 8,
   "id": "43db410a-d867-4075-983a-3ac247bb4a66",
   "metadata": {},
   "outputs": [
    {
     "data": {
      "text/plain": [
       "inv_list (generic function with 1 method)"
      ]
     },
     "execution_count": 8,
     "metadata": {},
     "output_type": "execute_result"
    }
   ],
   "source": [
    "function inv_list(ni,NOD,combination)\n",
    "    val_inv_list = ni[1]\n",
    "    for i in 2:NOD\n",
    "        val_inv_list = val_inv_list + combination[ni[i]-1,i]\n",
    "    end\n",
    "    return val_inv_list\n",
    "end"
   ]
  },
  {
   "cell_type": "code",
   "execution_count": 9,
   "id": "47aa4a03-038e-4211-830f-b991f9e81d84",
   "metadata": {},
   "outputs": [
    {
     "data": {
      "text/plain": [
       "10×5 Array{Int64,2}:\n",
       "  1   0    0    0    0\n",
       "  2   1    0    0    0\n",
       "  3   3    1    0    0\n",
       "  4   6    4    1    0\n",
       "  5  10   10    5    1\n",
       "  6  15   20   15    6\n",
       "  7  21   35   35   21\n",
       "  8  28   56   70   56\n",
       "  9  36   84  126  126\n",
       " 10  45  120  210  252"
      ]
     },
     "metadata": {},
     "output_type": "display_data"
    },
    {
     "name": "stdout",
     "output_type": "stream",
     "text": [
      "[1, 2, 3, 4, 5, 6, 7, 8, 9, 10]\n",
      "1 1\n",
      "2 1\n",
      "3 1\n",
      "4 1\n",
      "5 1\n"
     ]
    }
   ],
   "source": [
    "combination = get_combination(10,5)\n",
    "ni = [1:10;]\n",
    "display(combination)\n",
    "println(ni)\n",
    "for i in 1:5\n",
    "    val_inv_list = inv_list(ni,i,combination)\n",
    "    println(i,\" \",val_inv_list)\n",
    "end"
   ]
  },
  {
   "cell_type": "code",
   "execution_count": 10,
   "id": "9837593f-7e38-465d-a244-c421c185125d",
   "metadata": {},
   "outputs": [
    {
     "data": {
      "text/plain": [
       "qsort_w_order! (generic function with 1 method)"
      ]
     },
     "execution_count": 10,
     "metadata": {},
     "output_type": "execute_result"
    }
   ],
   "source": [
    "function qsort_w_order!(a,o,first,last)\n",
    "    x = a[div(first+last,2)]\n",
    "    i = first\n",
    "    j = last\n",
    "    while true\n",
    "        while a[i] < x\n",
    "            i = i + 1\n",
    "        end\n",
    "        while x < a[j]\n",
    "            j = j - 1\n",
    "        end\n",
    "        if i >= j\n",
    "            break\n",
    "        end\n",
    "        t8 = a[i];  a[i] = a[j];  a[j] = t8\n",
    "        t  = o[i];  o[i] = o[j];  o[j] = t\n",
    "        i = i + 1\n",
    "        j = j - 1\n",
    "    end\n",
    "    if first < i - 1\n",
    "        qsort_w_order!(a,o,first,i-1)\n",
    "    end\n",
    "    if j + 1 < last\n",
    "        qsort_w_order!(a,o,j+1,last)\n",
    "    end\n",
    "    return 0\n",
    "end"
   ]
  },
  {
   "cell_type": "code",
   "execution_count": 11,
   "id": "63b206ae-9790-4124-aa90-cf0bf270ed29",
   "metadata": {},
   "outputs": [
    {
     "name": "stdout",
     "output_type": "stream",
     "text": [
      "[16, 15, 14, 13, 12, 11, 10, 9, 8, 7, 6, 5, 4, 3, 2, 1]\n",
      "[32, 31, 30, 29, 28, 27, 26, 25, 24, 23, 22, 21, 20, 19, 18, 17]\n",
      "[16, 15, 14, 5, 6, 7, 8, 9, 10, 11, 12, 13, 4, 3, 2, 1]\n",
      "[32, 31, 30, 21, 22, 23, 24, 25, 26, 27, 28, 29, 20, 19, 18, 17]\n"
     ]
    }
   ],
   "source": [
    "a = [16:-1:1;]\n",
    "o = [32:-1:17;]\n",
    "println(a)\n",
    "println(o)\n",
    "qsort_w_order!(a,o,4,12)\n",
    "println(a)\n",
    "println(o)"
   ]
  },
  {
   "cell_type": "code",
   "execution_count": 12,
   "id": "97d44728-19cb-4433-964d-72c019a70a14",
   "metadata": {},
   "outputs": [
    {
     "data": {
      "text/plain": [
       "list_fly (generic function with 1 method)"
      ]
     },
     "execution_count": 12,
     "metadata": {},
     "output_type": "execute_result"
    }
   ],
   "source": [
    "function list_fly(t,NOD,NOS,combination)\n",
    "    ni = zeros(Int64,NOD)\n",
    "    s = t\n",
    "    j = NOS - 1\n",
    "    for i in NOD:-1:2\n",
    "        b, j0 = binary_search(s,combination[:,i],i,j)\n",
    "        j = j0 - 1\n",
    "        ni[i] = j0\n",
    "        s = s - combination[j,i]\n",
    "    end\n",
    "    ni[1] = s\n",
    "    return ni\n",
    "end"
   ]
  },
  {
   "cell_type": "code",
   "execution_count": 13,
   "id": "296f0df9-a11c-4b55-a4d4-31fdfe44ba71",
   "metadata": {},
   "outputs": [
    {
     "data": {
      "text/plain": [
       "binary_search (generic function with 1 method)"
      ]
     },
     "execution_count": 13,
     "metadata": {},
     "output_type": "execute_result"
    }
   ],
   "source": [
    "function binary_search(s,list_s,ls,le)\n",
    "    bmin = ls; bmax = le\n",
    "    while true\n",
    "        b = bmin + div(bmax-bmin,2)\n",
    "        if s < list_s[b]\n",
    "            bmax = b - 1\n",
    "        elseif list_s[b] < s\n",
    "            bmin = b + 1\n",
    "        else\n",
    "            bmin = b\n",
    "            return b, bmin\n",
    "        end\n",
    "        if bmin > bmax\n",
    "            b = -1\n",
    "            return b, bmin\n",
    "        end\n",
    "    end\n",
    "    return b, bmin\n",
    "end"
   ]
  },
  {
   "cell_type": "code",
   "execution_count": 14,
   "id": "fc526de5-ef32-4c52-9fd3-8f8906a7ff95",
   "metadata": {},
   "outputs": [
    {
     "data": {
      "text/plain": [
       "list_to_state (generic function with 1 method)"
      ]
     },
     "execution_count": 14,
     "metadata": {},
     "output_type": "execute_result"
    }
   ],
   "source": [
    "function list_to_state(st_list,NOS)\n",
    "    string = \"\"\n",
    "    for i in 1:NOS\n",
    "        if i in st_list\n",
    "            string = string * \"1\" # down\n",
    "        else\n",
    "            string = string * \"0\" # up\n",
    "        end\n",
    "    end\n",
    "    return string\n",
    "end"
   ]
  },
  {
   "cell_type": "code",
   "execution_count": 15,
   "id": "b5762e4a-d531-4891-baa3-9ab9bfee7681",
   "metadata": {},
   "outputs": [
    {
     "data": {
      "text/plain": [
       "6×3 Array{Int64,2}:\n",
       " 1   0   0\n",
       " 2   1   0\n",
       " 3   3   1\n",
       " 4   6   4\n",
       " 5  10  10\n",
       " 6  15  20"
      ]
     },
     "metadata": {},
     "output_type": "display_data"
    },
    {
     "name": "stdout",
     "output_type": "stream",
     "text": [
      "20\n",
      "1 [1, 2, 3] 111000 1\n",
      "2 [1, 2, 4] 110100 2\n",
      "3 [1, 3, 4] 101100 3\n",
      "4 [2, 3, 4] 011100 4\n",
      "5 [1, 2, 5] 110010 5\n",
      "6 [1, 3, 5] 101010 6\n",
      "7 [2, 3, 5] 011010 7\n",
      "8 [1, 4, 5] 100110 8\n",
      "9 [2, 4, 5] 010110 9\n",
      "10 [3, 4, 5] 001110 10\n",
      "11 [1, 2, 6] 110001 11\n",
      "12 [1, 3, 6] 101001 12\n",
      "13 [2, 3, 6] 011001 13\n",
      "14 [1, 4, 6] 100101 14\n",
      "15 [2, 4, 6] 010101 15\n",
      "16 [3, 4, 6] 001101 16\n",
      "17 [1, 5, 6] 100011 17\n",
      "18 [2, 5, 6] 010011 18\n",
      "19 [3, 5, 6] 001011 19\n",
      "20 [4, 5, 6] 000111 20\n"
     ]
    }
   ],
   "source": [
    "NOS = 6 # number of sites\n",
    "NOD = 3 # number of down spins\n",
    "combination = get_combination(NOS,NOD)\n",
    "THS = combination[NOS,NOD] # total Hilbert space\n",
    "display(combination)\n",
    "println(THS)\n",
    "lv = THS\n",
    "\n",
    "for i in 1:lv\n",
    "    st_list = list_fly(i,NOD,NOS,combination)\n",
    "    st_01 = list_to_state(st_list,NOS)\n",
    "    st_idx = inv_list(st_list,NOD,combination)\n",
    "    println(i,\" \",st_list,\" \",st_01,\" \",st_idx)\n",
    "end"
   ]
  },
  {
   "cell_type": "code",
   "execution_count": 16,
   "id": "5b8a5913-bc12-4d2d-9df8-ae00013beaca",
   "metadata": {},
   "outputs": [],
   "source": [
    "## bug, not used\n",
    "#function j_flip_ni_test_1(i,j,n,NOD)\n",
    "#    nd = ones(Int64,NOD)\n",
    "#    kr = NOD\n",
    "#    for _kr in NOD:-1:1\n",
    "#        if j < n[_kr]\n",
    "#            kr = _kr\n",
    "#            continue\n",
    "#        elseif j > n[_kr]\n",
    "#            kr = _kr\n",
    "#            break\n",
    "#        else\n",
    "#            fill!(nd,0)\n",
    "#            kr = _kr\n",
    "#            break\n",
    "#        end\n",
    "#    end\n",
    "#    if nd[NOD] == 1 # S+_i S-_j\n",
    "#        kl = 1\n",
    "#        for _kl in 1:kr\n",
    "#            if i == n[_kl]\n",
    "#                kl = _kl\n",
    "#                break\n",
    "#            end\n",
    "#            kl = _kl\n",
    "#        end\n",
    "#        nd[kl:kr-1] = n[kl+1:kr]\n",
    "#        nd[kr] = j\n",
    "#    else # S-_i S+_j\n",
    "#        kl = 1\n",
    "#        for _kl in 1:kr\n",
    "#            if i < n[_kl]\n",
    "#                kl = _kl\n",
    "#                break\n",
    "#            end\n",
    "#            kl = _kl\n",
    "#        end\n",
    "#        nd[kl] = i\n",
    "#        nd[kl+1:kr] = n[kl:kr-1]\n",
    "#    end\n",
    "#    nd[1:kl-1] = n[1:kl-1]\n",
    "#    nd[kr+1:NOD] = n[kr+1:NOD]\n",
    "#    return nd\n",
    "#end"
   ]
  },
  {
   "cell_type": "code",
   "execution_count": 17,
   "id": "26666aaa-0cec-4c3a-b15d-4da2cdadebe4",
   "metadata": {},
   "outputs": [],
   "source": [
    "## bug, not used\n",
    "#function j_flip_ni_test_2(i,j,n,NOD)\n",
    "#    nd = ones(Int64,NOD)\n",
    "#    kr = NOD\n",
    "#    for _kr in NOD:-1:1\n",
    "#        if j < n[_kr]\n",
    "#            continue\n",
    "#        elseif j > n[_kr]\n",
    "#            kr = _kr\n",
    "#            break\n",
    "#        else\n",
    "#            fill!(nd,0)\n",
    "#            kr = _kr\n",
    "#            break\n",
    "#        end\n",
    "#    end\n",
    "#    if nd[NOD] == 1 # S+_i S-_j\n",
    "#        kl = 1\n",
    "#        for _kl in 1:kr\n",
    "#            if i == n[_kl]\n",
    "#                kl = _kl\n",
    "#                break\n",
    "#            end\n",
    "#            kl = _kl+1\n",
    "#        end\n",
    "#        if kl <= kr-1\n",
    "#            nd[kl:kr-1] = n[kl+1:kr]\n",
    "#        end\n",
    "#        nd[kr] = j\n",
    "#    else # S-_i S+_j\n",
    "#        kl = 1\n",
    "#        for _kl in 1:kr\n",
    "#            if i < n[_kl]\n",
    "#                kl = _kl\n",
    "#                break\n",
    "#            end\n",
    "#            kl = _kl+1\n",
    "#        end\n",
    "#        nd[kl] = i\n",
    "#        nd[kl+1:kr] = n[kl:kr-1]\n",
    "#    end\n",
    "#    nd[1:kl-1] = n[1:kl-1]\n",
    "#    nd[kr+1:NOD] = n[kr+1:NOD]\n",
    "#    return nd\n",
    "#end"
   ]
  },
  {
   "cell_type": "code",
   "execution_count": 18,
   "id": "c5a4a257-64ad-4eea-b996-efd20e4bf6e9",
   "metadata": {},
   "outputs": [
    {
     "data": {
      "text/plain": [
       "j_flip_ni (generic function with 1 method)"
      ]
     },
     "execution_count": 18,
     "metadata": {},
     "output_type": "execute_result"
    }
   ],
   "source": [
    "function j_flip_ni(i,j,n,NOD)\n",
    "    nd = ones(Int64,NOD)\n",
    "    kr = NOD\n",
    "    for _kr in NOD:-1:1\n",
    "        if j < n[_kr]\n",
    "            kr = _kr\n",
    "            continue\n",
    "        elseif j > n[_kr]\n",
    "            kr = _kr\n",
    "            break\n",
    "        else\n",
    "            fill!(nd,0)\n",
    "            kr = _kr\n",
    "            break\n",
    "        end\n",
    "    end\n",
    "    if nd[NOD] == 1 # S+_i S-_j\n",
    "        kl = 1\n",
    "        for _kl in 1:kr\n",
    "            if i == n[_kl]\n",
    "                kl = _kl\n",
    "                break\n",
    "            end\n",
    "            kl = _kl+1\n",
    "        end\n",
    "        nd[kl:kr-1] = n[kl+1:kr]\n",
    "        nd[kr] = j\n",
    "    else # S-_i S+_j\n",
    "        kl = 1\n",
    "        for _kl in 1:kr\n",
    "            if i < n[_kl]\n",
    "                kl = _kl\n",
    "                break\n",
    "            end\n",
    "            kl = _kl+1\n",
    "        end\n",
    "        nd[kl] = i\n",
    "        nd[kl+1:kr] = n[kl:kr-1]\n",
    "    end\n",
    "    nd[1:kl-1] = n[1:kl-1]\n",
    "    nd[kr+1:NOD] = n[kr+1:NOD]\n",
    "    return nd\n",
    "end"
   ]
  },
  {
   "cell_type": "code",
   "execution_count": 19,
   "id": "19e8c84e-7c1b-409a-bcf5-3ba1eb34c6af",
   "metadata": {},
   "outputs": [
    {
     "data": {
      "text/plain": [
       "4×2 Array{Int64,2}:\n",
       " 1  0\n",
       " 2  1\n",
       " 3  3\n",
       " 4  6"
      ]
     },
     "metadata": {},
     "output_type": "display_data"
    },
    {
     "name": "stdout",
     "output_type": "stream",
     "text": [
      "6\n",
      "\n",
      "1 [1, 2] 1100\n",
      "1 2 [1, 1] 1000\n",
      "1 3 [2, 3] 0110\n",
      "1 4 [2, 4] 0101\n",
      "2 3 [1, 3] 1010\n",
      "2 4 [1, 4] 1001\n",
      "3 4 [1, 2] 1100\n",
      "\n",
      "2 [1, 3] 1010\n",
      "1 2 [2, 3] 0110\n",
      "1 3 [1, 1] 1000\n",
      "1 4 [3, 4] 0011\n",
      "2 3 [1, 2] 1100\n",
      "2 4 [1, 3] 1010\n",
      "3 4 [1, 4] 1001\n",
      "\n",
      "3 [2, 3] 0110\n",
      "1 2 [1, 3] 1010\n",
      "1 3 [1, 2] 1100\n",
      "1 4 [2, 3] 0110\n",
      "2 3 [2, 2] 0100\n",
      "2 4 [3, 4] 0011\n",
      "3 4 [2, 4] 0101\n",
      "\n",
      "4 [1, 4] 1001\n",
      "1 2 [2, 4] 0101\n",
      "1 3 [3, 4] 0011\n",
      "1 4 [1, 1] 1000\n",
      "2 3 [1, 4] 1001\n",
      "2 4 [1, 2] 1100\n",
      "3 4 [1, 3] 1010\n",
      "\n",
      "5 [2, 4] 0101\n",
      "1 2 [1, 4] 1001\n",
      "1 3 [2, 4] 0101\n",
      "1 4 [1, 2] 1100\n",
      "2 3 [3, 4] 0011\n",
      "2 4 [2, 2] 0100\n",
      "3 4 [2, 3] 0110\n",
      "\n",
      "6 [3, 4] 0011\n",
      "1 2 [3, 4] 0011\n",
      "1 3 [1, 4] 1001\n",
      "1 4 [1, 3] 1010\n",
      "2 3 [2, 4] 0101\n",
      "2 4 [2, 3] 0110\n",
      "3 4 [3, 3] 0010\n",
      "\n"
     ]
    }
   ],
   "source": [
    "NOS = 4 # number of sites\n",
    "NOD = 2 # number of down spins\n",
    "combination = get_combination(NOS,NOD)\n",
    "THS = combination[NOS,NOD] # total Hilbert space\n",
    "display(combination)\n",
    "println(THS)\n",
    "println()\n",
    "for sp in 1:THS\n",
    "    st_list = list_fly(sp,NOD,NOS,combination)\n",
    "    println(sp,\" \",st_list,\" \",list_to_state(st_list,NOS))\n",
    "#    st_idx = inv_list(st_list,NOD,combination)\n",
    "#    println(sp,\" \",st_list,\" \",list_to_state(st_list,NOS),\" \",st_idx)\n",
    "    for i in 1:NOS\n",
    "        for j in i+1:NOS\n",
    "            nd = j_flip_ni(i,j,st_list,NOD)\n",
    "            println(i,\" \",j,\" \",nd,\" \",list_to_state(nd,NOS))\n",
    "#            nd_idx = inv_list(nd,NOD,combination)\n",
    "#            println(i,\" \",j,\" \",nd,\" \",list_to_state(nd,NOS),\" \",nd_idx)\n",
    "        end\n",
    "    end\n",
    "    println()\n",
    "end"
   ]
  },
  {
   "cell_type": "code",
   "execution_count": 20,
   "id": "cd41ea45-b851-43a2-8e8f-28bf5a800f74",
   "metadata": {},
   "outputs": [
    {
     "data": {
      "text/plain": [
       "j_flip_ni_debug (generic function with 1 method)"
      ]
     },
     "execution_count": 20,
     "metadata": {},
     "output_type": "execute_result"
    }
   ],
   "source": [
    "function j_flip_ni_debug(i,j,n,NOD)\n",
    "    nd = ones(Int64,NOD)\n",
    "    kr = NOD\n",
    "    for _kr in NOD:-1:1\n",
    "        println(i,\" \",j,\" \",_kr,\" \",n[_kr])\n",
    "        println(\"# nd\",nd)\n",
    "        if j < n[_kr]\n",
    "            kr = _kr\n",
    "            continue\n",
    "        elseif j > n[_kr]\n",
    "            kr = _kr\n",
    "            break\n",
    "        else\n",
    "            fill!(nd,0)\n",
    "            kr = _kr\n",
    "            break\n",
    "        end\n",
    "    end\n",
    "    println(\"end kr\")\n",
    "    if nd[NOD] == 1 # S+_i S-_j\n",
    "        kl = 1\n",
    "        for _kl in 1:kr\n",
    "            println(\"nd(NOD)==1\")\n",
    "            println(i,\" \",j,\" \",_kl,\" \",n[_kl])\n",
    "            println(\"# nd\",nd)\n",
    "            if i == n[_kl]\n",
    "                kl = _kl\n",
    "                break\n",
    "            end\n",
    "            kl = _kl+1\n",
    "        end\n",
    "        nd[kl:kr-1] = n[kl+1:kr]\n",
    "        nd[kr] = j\n",
    "        println(\"kl,kr(last2a) \",kl,\" \",kr)\n",
    "        println(\"# nd\",nd)\n",
    "    else # S-_i S+_j\n",
    "        kl = 1\n",
    "        for _kl in 1:kr\n",
    "            println(\"nd(NOD)!=1\")\n",
    "            println(i,\" \",j,\" \",_kl,\" \",n[_kl])\n",
    "            println(\"# nd\",nd)\n",
    "            if i < n[_kl]\n",
    "                kl = _kl\n",
    "                break\n",
    "            end\n",
    "            kl = _kl+1\n",
    "        end\n",
    "        nd[kl] = i\n",
    "        nd[kl+1:kr] = n[kl:kr-1]\n",
    "        println(\"kl,kr(last2b) \",kl,\" \",kr)\n",
    "        println(\"# nd\",nd)\n",
    "    end\n",
    "    nd[1:kl-1] = n[1:kl-1]\n",
    "    nd[kr+1:NOD] = n[kr+1:NOD]\n",
    "    println(\"kl,kr(last1) \",kl,\" \",kr)\n",
    "    println(\"# nd\",nd)\n",
    "    return nd\n",
    "end"
   ]
  },
  {
   "cell_type": "code",
   "execution_count": 21,
   "id": "3bd9d6cc-eb33-4f7f-a5ae-3b40cab1ba2b",
   "metadata": {},
   "outputs": [
    {
     "data": {
      "text/plain": [
       "4×2 Array{Int64,2}:\n",
       " 1  0\n",
       " 2  1\n",
       " 3  3\n",
       " 4  6"
      ]
     },
     "metadata": {},
     "output_type": "display_data"
    },
    {
     "name": "stdout",
     "output_type": "stream",
     "text": [
      "6\n",
      "\n",
      "1 [1, 2] 1100\n",
      "3 4 2 2\n",
      "# nd[1, 1]\n",
      "end kr\n",
      "nd(NOD)==1\n",
      "3 4 1 1\n",
      "# nd[1, 1]\n",
      "nd(NOD)==1\n",
      "3 4 2 2\n",
      "# nd[1, 1]\n",
      "kl,kr(last2a) 3 2\n",
      "# nd[1, 4]\n",
      "kl,kr(last1) 3 2\n",
      "# nd[1, 2]\n",
      "3 4 [1, 2] 1100\n",
      "\n"
     ]
    }
   ],
   "source": [
    "NOS = 4 # number of sites\n",
    "NOD = 2 # number of down spins\n",
    "combination = get_combination(NOS,NOD)\n",
    "THS = combination[NOS,NOD] # total Hilbert space\n",
    "display(combination)\n",
    "println(THS)\n",
    "println()\n",
    "for sp in 1:1\n",
    "    st_list = list_fly(sp,NOD,NOS,combination)\n",
    "    println(sp,\" \",st_list,\" \",list_to_state(st_list,NOS))\n",
    "#    st_idx = inv_list(st_list,NOD,combination)\n",
    "#    println(sp,\" \",st_list,\" \",list_to_state(st_list,NOS),\" \",st_idx)\n",
    "    for i in 3:3\n",
    "        for j in 4:4\n",
    "            nd = j_flip_ni_debug(i,j,st_list,NOD)\n",
    "            println(i,\" \",j,\" \",nd,\" \",list_to_state(nd,NOS))\n",
    "#            nd_idx = inv_list(nd,NOD,combination)\n",
    "#            println(i,\" \",j,\" \",nd,\" \",list_to_state(nd,NOS),\" \",nd_idx)\n",
    "        end\n",
    "    end\n",
    "    println()\n",
    "end"
   ]
  },
  {
   "cell_type": "code",
   "execution_count": 22,
   "id": "16c5df43-98ad-4079-8373-ee380588af68",
   "metadata": {},
   "outputs": [
    {
     "name": "stdout",
     "output_type": "stream",
     "text": [
      "true true false\n",
      "true false true\n",
      "false true true\n",
      "false false false\n"
     ]
    }
   ],
   "source": [
    "for f1 in [true,false]\n",
    "    for f2 in [true,false]\n",
    "        f3 = xor(f1,f2)\n",
    "        println(f1,\" \",f2,\" \",f3)\n",
    "    end\n",
    "end"
   ]
  },
  {
   "cell_type": "code",
   "execution_count": 23,
   "id": "9fd31fa9-aecd-4f1f-b43d-ebc6755ac6bb",
   "metadata": {},
   "outputs": [
    {
     "data": {
      "text/plain": [
       "make_full_hamiltonian (generic function with 1 method)"
      ]
     },
     "execution_count": 23,
     "metadata": {},
     "output_type": "execute_result"
    }
   ],
   "source": [
    "function make_full_hamiltonian(lv,combination,NOD,NOxxz,p_xxz,sJint,NOS)\n",
    "    Ham = zeros(Float64,(lv,lv))\n",
    "    for i in 1:lv\n",
    "        st_list = list_fly(i,NOD,NOS,combination)\n",
    "        for j in 1:NOxxz\n",
    "            f1 = p_xxz[1,j] in st_list\n",
    "            f2 = p_xxz[2,j] in st_list\n",
    "            if xor(f1,f2)\n",
    "                Ham[i,i] = Ham[i,i] - sJint[j,2]\n",
    "                ni = j_flip_ni(p_xxz[1,j],p_xxz[2,j],st_list,NOD)\n",
    "                id = inv_list(ni,NOD,combination)\n",
    "                Ham[i,id] = Ham[i,id] + sJint[j,1]\n",
    "            else\n",
    "                Ham[i,i] = Ham[i,i] + sJint[j,2]\n",
    "            end\n",
    "        end\n",
    "    end\n",
    "    return Ham\n",
    "end"
   ]
  },
  {
   "cell_type": "code",
   "execution_count": 24,
   "id": "3959c5f6-323c-4dc4-9800-2e5cdb687a8e",
   "metadata": {},
   "outputs": [
    {
     "data": {
      "text/plain": [
       "4×2 Array{Int64,2}:\n",
       " 1  0\n",
       " 2  1\n",
       " 3  3\n",
       " 4  6"
      ]
     },
     "metadata": {},
     "output_type": "display_data"
    },
    {
     "name": "stdout",
     "output_type": "stream",
     "text": [
      "6\n",
      "[1 2 3 1; 2 3 4 4]\n"
     ]
    },
    {
     "data": {
      "text/plain": [
       "6×6 Array{Float64,2}:\n",
       " 0.0   0.5  0.0  0.0   0.5  0.0\n",
       " 0.5  -1.0  0.5  0.5   0.0  0.5\n",
       " 0.0   0.5  0.0  0.0   0.5  0.0\n",
       " 0.0   0.5  0.0  0.0   0.5  0.0\n",
       " 0.5   0.0  0.5  0.5  -1.0  0.5\n",
       " 0.0   0.5  0.0  0.0   0.5  0.0"
      ]
     },
     "metadata": {},
     "output_type": "display_data"
    },
    {
     "name": "stdout",
     "output_type": "stream",
     "text": [
      "[1.0 1.0; 1.0 1.0; 1.0 1.0; 1.0 1.0]\n",
      "[0.5 0.25; 0.5 0.25; 0.5 0.25; 0.5 0.25]\n",
      "\n",
      "1 2 0.5\n",
      "1 5 0.5\n",
      "2 1 0.5\n",
      "2 2 -1.0\n",
      "2 3 0.5\n",
      "2 4 0.5\n",
      "2 6 0.5\n",
      "3 2 0.5\n",
      "3 5 0.5\n",
      "4 2 0.5\n",
      "4 5 0.5\n",
      "5 1 0.5\n",
      "5 3 0.5\n",
      "5 4 0.5\n",
      "5 5 -1.0\n",
      "5 6 0.5\n",
      "6 2 0.5\n",
      "6 5 0.5\n",
      "\n"
     ]
    }
   ],
   "source": [
    "NOS = 4 # number of sites\n",
    "NOD = 2 # number of down spins\n",
    "NOxxz = NOS # number of XXZ interaction\n",
    "combination = get_combination(NOS,NOD)\n",
    "THS = combination[NOS,NOD] # total Hilbert space\n",
    "display(combination)\n",
    "println(THS)\n",
    "\n",
    "p_xxz = zeros(Int64,(2,NOxxz))\n",
    "Jint = zeros(Float64,(NOxxz,2)) # Jint[NOxxz,1] --> Jint_x, Jint[NOxxz,2] --> Jint_z\n",
    "sJint = zeros(Float64,(NOxxz,2)) # sJint[NOxxz,1] --> sJint_x, sJint[NOxxz,2] --> sJint_z\n",
    "for i in 1:NOS\n",
    "    p_xxz[1,i] = mod(i-1,NOS)+1\n",
    "    p_xxz[2,i] = mod(i,NOS)+1\n",
    "    if p_xxz[1,i] > p_xxz[2,i] # assume i<j for pair (i,j)\n",
    "        tmp = p_xxz[1,i]\n",
    "        p_xxz[1,i] = p_xxz[2,i]\n",
    "        p_xxz[2,i] = tmp\n",
    "    end\n",
    "end\n",
    "fill!(Jint,1.0)\n",
    "sJint[:,1] = 0.5 .* Jint[:,1]\n",
    "sJint[:,2] = 0.25 .* Jint[:,2]\n",
    "println(p_xxz)\n",
    "println(Jint)\n",
    "println(sJint)\n",
    "println()\n",
    "\n",
    "Ham = make_full_hamiltonian(THS,combination,NOD,NOxxz,p_xxz,sJint,NOS)\n",
    "display(Ham)\n",
    "for i in 1:THS\n",
    "    for j in 1:THS\n",
    "        if abs(Ham[i,j]) > 1e-6\n",
    "            println(i,\" \",j,\" \",Ham[i,j])\n",
    "        end\n",
    "    end\n",
    "end\n",
    "println()"
   ]
  },
  {
   "cell_type": "code",
   "execution_count": null,
   "id": "898db060-2560-4578-86d2-9ff848dee0ea",
   "metadata": {},
   "outputs": [],
   "source": []
  }
 ],
 "metadata": {
  "kernelspec": {
   "display_name": "Julia 1.0.5",
   "language": "julia",
   "name": "julia-1.0"
  },
  "language_info": {
   "file_extension": ".jl",
   "mimetype": "application/julia",
   "name": "julia",
   "version": "1.0.5"
  },
  "toc-showcode": false
 },
 "nbformat": 4,
 "nbformat_minor": 5
}
